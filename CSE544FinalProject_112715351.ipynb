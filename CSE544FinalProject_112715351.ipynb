{
  "nbformat": 4,
  "nbformat_minor": 0,
  "metadata": {
    "colab": {
      "name": "CSE544FinalProject.ipynb",
      "provenance": [],
      "collapsed_sections": [
        "rKe6EIH5eoKt",
        "wjC9A6WGqtfX"
      ],
      "toc_visible": true
    },
    "kernelspec": {
      "name": "python3",
      "display_name": "Python 3"
    }
  },
  "cells": [
    {
      "cell_type": "code",
      "metadata": {
        "id": "xy3bwfY2Ugdp",
        "colab_type": "code",
        "colab": {}
      },
      "source": [
        "import pandas as pd\n",
        "import seaborn as sns\n",
        "sns.set()\n",
        "import numpy as np\n",
        "import matplotlib.pyplot as plt\n",
        "from collections import Counter\n",
        "from scipy import stats\n",
        "import sys\n",
        "from numpy.linalg import inv\n",
        "import math\n",
        "from scipy.stats import gamma"
      ],
      "execution_count": 0,
      "outputs": []
    },
    {
      "cell_type": "code",
      "metadata": {
        "id": "ic8YPY_rUr5M",
        "colab_type": "code",
        "colab": {}
      },
      "source": [
        "#Reading COVID data from API to ensure we always have the latest available data\n",
        "# url = \"https://covidtracking.com/api/v1/states/daily.csv\"\n",
        "full_data = pd.read_csv(\"daily.csv\")"
      ],
      "execution_count": 0,
      "outputs": []
    },
    {
      "cell_type": "code",
      "metadata": {
        "id": "93bYjYlrUtq6",
        "colab_type": "code",
        "colab": {}
      },
      "source": [
        "#We henceforth for the purpose of this project, will be working on the combined COVID data of two states - \n",
        "#Texas and New Mexico. \n",
        "#We do realize these are two different states - we aim to combine the data for these two and do some analysis and find meaningful inferences.\n",
        "states = ['TX','NM']\n",
        "texas_newmexico_data = full_data[full_data.state.isin(states)] "
      ],
      "execution_count": 0,
      "outputs": []
    },
    {
      "cell_type": "code",
      "metadata": {
        "id": "NDCBIcSiUv2G",
        "colab_type": "code",
        "colab": {}
      },
      "source": [
        "#Adding up rows for texas and new mexico\n",
        "texas_newmexico_data = texas_newmexico_data.groupby(['date']).sum().reset_index()"
      ],
      "execution_count": 0,
      "outputs": []
    },
    {
      "cell_type": "code",
      "metadata": {
        "id": "LriUDxQSUydJ",
        "colab_type": "code",
        "colab": {}
      },
      "source": [
        "#Data Cleaning - Filling null values with 0 as we assume no data was recorded/reported on those days.\n",
        "#Why we impute with 0 and not with mean, median is better explained in the conclusion towards the end of this task.\n",
        "texas_newmexico_data = texas_newmexico_data.fillna(0)\n",
        "# texas_newmexico_data"
      ],
      "execution_count": 0,
      "outputs": []
    },
    {
      "cell_type": "markdown",
      "metadata": {
        "id": "8vc8yQI-U48o",
        "colab_type": "text"
      },
      "source": [
        "#Data Cleanup\n",
        "##Tukey's method of detecting outliers"
      ]
    },
    {
      "cell_type": "code",
      "metadata": {
        "id": "2j-F1L3cU9kb",
        "colab_type": "code",
        "colab": {}
      },
      "source": [
        "# Tukey Method to detect outliers\n",
        "n = 1 #In this case, we considered outliers as rows that have at least one outlier numerical value.\n",
        "indices = []\n",
        "for col in texas_newmexico_data.columns[0:26]:\n",
        "    Q1 = np.percentile(texas_newmexico_data[col],25) #Q1 is at 25 - first quartile\n",
        "    Q3 = np.percentile(texas_newmexico_data[col],75) #Q3 is at 75 - third quartile\n",
        "    IQR = Q3 - Q1 #inter-quartile range\n",
        "    multiplier = 1.5 * IQR #This multiplier works for finding outliers for our data, so we stick to it.\n",
        "    # Determine a list of indices of outliers for feature col\n",
        "    list_outliers = texas_newmexico_data[(texas_newmexico_data[col] < Q1 - multiplier) | (texas_newmexico_data[col] > Q3 + multiplier )].index \n",
        "    indices.extend(list_outliers) # appending the found outlier indices to the list of outlier indices\n",
        "indices = Counter(indices)\n",
        "outliers = list( k for k, v in indices.items() if v > n )"
      ],
      "execution_count": 0,
      "outputs": []
    },
    {
      "cell_type": "code",
      "metadata": {
        "id": "t6goSPkAVB8D",
        "colab_type": "code",
        "outputId": "56a952ba-c38b-4817-bf1f-8b109e5dddc4",
        "colab": {
          "base_uri": "https://localhost:8080/",
          "height": 34
        }
      },
      "source": [
        "#These are the indices of the rows which had atleast one outlier value\n",
        "outliers"
      ],
      "execution_count": 0,
      "outputs": [
        {
          "output_type": "execute_result",
          "data": {
            "text/plain": [
              "[55, 56, 51, 52]"
            ]
          },
          "metadata": {
            "tags": []
          },
          "execution_count": 74
        }
      ]
    },
    {
      "cell_type": "code",
      "metadata": {
        "id": "vfo2W0uwVDes",
        "colab_type": "code",
        "colab": {}
      },
      "source": [
        "#Throwing the outliers - we discard the ones we found\n",
        "texas_newmexico_data.drop(outliers, axis = 0)\n",
        "texas_newmexico_data = texas_newmexico_data.drop(outliers, axis = 0).reset_index(drop=True)"
      ],
      "execution_count": 0,
      "outputs": []
    },
    {
      "cell_type": "code",
      "metadata": {
        "id": "g2_hyR07VE6_",
        "colab_type": "code",
        "colab": {}
      },
      "source": [
        "# texas_newmexico_data.info()\n",
        "texas_newmexico_data['state'] = 'TX,NM'\n",
        "# texas_newmexico_data['date'].unique()\n",
        "texas_newmexico_data.to_csv(\"tx_nm_data2.csv\")"
      ],
      "execution_count": 0,
      "outputs": []
    },
    {
      "cell_type": "code",
      "metadata": {
        "id": "Kg3T3wk9uoDE",
        "colab_type": "code",
        "outputId": "33b08615-2b03-4e57-b8b3-ff27b953b70d",
        "colab": {
          "base_uri": "https://localhost:8080/",
          "height": 527
        }
      },
      "source": [
        "texas_newmexico_data.info()"
      ],
      "execution_count": 0,
      "outputs": [
        {
          "output_type": "stream",
          "text": [
            "<class 'pandas.core.frame.DataFrame'>\n",
            "RangeIndex: 53 entries, 0 to 52\n",
            "Data columns (total 23 columns):\n",
            " #   Column                    Non-Null Count  Dtype  \n",
            "---  ------                    --------------  -----  \n",
            " 0   date                      53 non-null     int64  \n",
            " 1   positive                  53 non-null     float64\n",
            " 2   negative                  53 non-null     float64\n",
            " 3   pending                   53 non-null     float64\n",
            " 4   hospitalizedCurrently     53 non-null     float64\n",
            " 5   hospitalizedCumulative    53 non-null     float64\n",
            " 6   inIcuCurrently            53 non-null     float64\n",
            " 7   inIcuCumulative           53 non-null     float64\n",
            " 8   onVentilatorCurrently     53 non-null     float64\n",
            " 9   onVentilatorCumulative    53 non-null     float64\n",
            " 10  recovered                 53 non-null     float64\n",
            " 11  death                     53 non-null     float64\n",
            " 12  hospitalized              53 non-null     float64\n",
            " 13  total                     53 non-null     float64\n",
            " 14  totalTestResults          53 non-null     float64\n",
            " 15  posNeg                    53 non-null     float64\n",
            " 16  fips                      53 non-null     int64  \n",
            " 17  deathIncrease             53 non-null     float64\n",
            " 18  hospitalizedIncrease      53 non-null     float64\n",
            " 19  negativeIncrease          53 non-null     float64\n",
            " 20  positiveIncrease          53 non-null     float64\n",
            " 21  totalTestResultsIncrease  53 non-null     float64\n",
            " 22  state                     53 non-null     object \n",
            "dtypes: float64(20), int64(2), object(1)\n",
            "memory usage: 9.6+ KB\n"
          ],
          "name": "stdout"
        }
      ]
    },
    {
      "cell_type": "markdown",
      "metadata": {
        "id": "A36YKAmQVQy_",
        "colab_type": "text"
      },
      "source": [
        "##Conclusion\n",
        "We applied Tukey's rule and found around 4 outlier values, these are mostly the ones where there was a sudden spike in the positive or negative cases. In few cases, these were even when the data reported a relatively low (0) number of people getting hospitalized. Now, this could have been since we imputed the null values of our dataset as 0 - but since no data was available for these rows, we could not replace it with mean/median etc. - as that would tamper our original data. We assumed on these days no cases happened or for that matter were reported.\n",
        "\n",
        "Since these values fell either below 1.5 range of first quartile or they were above 1.5 range of third quartile, we threw them and proceeded with the rest of the data for our further analysis."
      ]
    },
    {
      "cell_type": "markdown",
      "metadata": {
        "id": "nTiL9gqrHxIW",
        "colab_type": "text"
      },
      "source": [
        "## Visualizations\n",
        "References:<br>[1] https://en.wikipedia.org/wiki/COVID-19_pandemic_in_Texas<br>[2]https://en.wikipedia.org/wiki/COVID-19_pandemic_in_New_Mexico"
      ]
    },
    {
      "cell_type": "code",
      "metadata": {
        "id": "YzVycwkwHym_",
        "colab_type": "code",
        "colab": {}
      },
      "source": [
        "#Original dataset with some preprocessing\n",
        "states = ['TX','NM']\n",
        "texas_newmexico_data = full_data[full_data.state.isin(states)] \n",
        "texas_newmexico_data = texas_newmexico_data.fillna(\"0\")\n",
        "texas_newmexico_data = texas_newmexico_data.fillna(texas_newmexico_data.mean())\n",
        "texas_newmexico_data['death'] = texas_newmexico_data['death'].astype(int)\n",
        "texas_newmexico_data['date']=pd.to_datetime(texas_newmexico_data['date'].astype(str), format='%Y%m%d')\n",
        "\n",
        "#Separating the dataset based on the value of the two states-Texas and New Mexico for comparison\n",
        "data_NM=texas_newmexico_data.loc[texas_newmexico_data[\"state\"] == \"NM\"]\n",
        "data_TX=texas_newmexico_data.loc[texas_newmexico_data[\"state\"] == \"TX\"]\n",
        "\n",
        "#Dataset containing daily data considering Texas and New Mexico as a single region (and some preprocessing)\n",
        "#Loading Covid data \n",
        "comb_data=pd.read_csv(\"daily.csv\")\n",
        "states = ['TX','NM']\n",
        "comb_data = full_data[full_data.state.isin(states)] \n",
        "comb_data=comb_data.groupby(['date']).sum().reset_index()\n",
        "comb_data = comb_data.fillna(\"0\")\n",
        "comb_data = comb_data.fillna(full_data.mean())\n",
        "comb_data['death'] = comb_data['death'].astype(int)\n",
        "comb_data.astype(int)\n",
        "comb_data['date']=pd.to_datetime(comb_data['date'].astype(str), format='%Y%m%d')\n"
      ],
      "execution_count": 0,
      "outputs": []
    },
    {
      "cell_type": "code",
      "metadata": {
        "id": "k8n2-5hLH00l",
        "colab_type": "code",
        "outputId": "7b7a76a1-6109-4f3b-f3c3-ff831fed008b",
        "colab": {
          "base_uri": "https://localhost:8080/",
          "height": 572
        }
      },
      "source": [
        "#Plot 1:Comparison of the number of postive and negative cases(daily) [States separated and combined both]\n",
        "\n",
        "fig, axes = plt.subplots(nrows=1, ncols=2, figsize=(14, 8))\n",
        "\n",
        "axes[0].plot(data_TX[\"date\"],data_TX[\"positive\"],'-g', label='Texas-positive');\n",
        "axes[0].plot(data_TX[\"date\"],data_TX[\"negative\"],'-r', label='Texas-negative');\n",
        "axes[0].plot(data_NM[\"date\"],data_NM[\"positive\"],'-b', label='New Mexico-positive');\n",
        "axes[0].plot(data_NM[\"date\"],data_NM[\"negative\"],'-y', label='New Mexico-negative');\n",
        "\n",
        "axes[0].set(title = \"Comparison of positive and negative cases\",xlabel = \"Date\",ylabel = \"Count\");\n",
        "axes[0].tick_params(axis='x', labelrotation=75)\n",
        "axes[0].legend(fancybox=True, framealpha=1, borderpad=1)\n",
        "\n",
        "\n",
        "axes[1].plot(comb_data[\"date\"],comb_data[\"positive\"],'-r', label='combined-positive');\n",
        "axes[1].plot(comb_data[\"date\"],comb_data[\"negative\"],'-b', label='combined-negative');\n",
        "axes[1].set(title = \"Comparison of positive and negative cases\",xlabel = \"Date\",ylabel = \"Count\");\n",
        "axes[1].legend(fancybox=True, framealpha=1, borderpad=1)\n",
        "axes[1].tick_params(axis='x', labelrotation=75)\n"
      ],
      "execution_count": 0,
      "outputs": [
        {
          "output_type": "display_data",
          "data": {
            "image/png": "[encoded data removed]",
            "text/plain": [
              "<Figure size 1008x576 with 2 Axes>"
            ]
          },
          "metadata": {
            "tags": []
          }
        }
      ]
    },
    {
      "cell_type": "markdown",
      "metadata": {
        "id": "vNrhSJNdH6hV",
        "colab_type": "text"
      },
      "source": [
        "<b>Idea:To compare  the number of postive and negative cases(daily) [States separated and combined both]</b><br>\n",
        "As we can see from the above plot, the increase in negative cases has been really high for both the states, Also, the growth of positive cases is much more lesser than the growth of negative cases which summarizes for us that out of all tested individuals, the number of positive cases is quite less for both the states.<br>\n",
        "For an overview, we can refer to the olot on the right which clearly compares the growth rates of both negative and positive cases."
      ]
    },
    {
      "cell_type": "code",
      "metadata": {
        "id": "Dbek7YsdH3mM",
        "colab_type": "code",
        "outputId": "f9acc9ea-d936-4b0f-86f8-70b8bf588802",
        "colab": {
          "base_uri": "https://localhost:8080/",
          "height": 518
        }
      },
      "source": [
        "#Plot 2:Comparison of how many patients out of positive cases were hospitalized [States separated and combined both]\n",
        "fig, axes = plt.subplots(nrows=1, ncols=2, figsize=(14, 8))\n",
        "\n",
        "axes[0].plot(data_TX[\"positive\"],data_TX[\"hospitalizedCurrently\"],'-g', label='Texas');\n",
        "axes[0].plot(data_NM[\"positive\"],data_NM[\"hospitalizedCurrently\"],'-b', label='New Mexico');\n",
        "axes[0].legend(fancybox=True, framealpha=1, borderpad=1)\n",
        "axes[0].set(title = \"Comparison of positive cases\",xlabel = \"Positive cases count\",ylabel = \"Hospitalized cases Count\");\n",
        "\n",
        "axes[1].plot(comb_data[\"positive\"],comb_data[\"hospitalizedCurrently\"],'-r', label='combined');\n",
        "axes[1].legend(fancybox=True, framealpha=1, borderpad=1)\n",
        "axes[1].set(title = \"Comparison of positive cases\",xlabel = \"Positive cases count\",ylabel = \"Hospitalized cases Count\");"
      ],
      "execution_count": 0,
      "outputs": [
        {
          "output_type": "display_data",
          "data": {
            "image/png": "[encoded data removed]",
            "text/plain": [
              "<Figure size 1008x576 with 2 Axes>"
            ]
          },
          "metadata": {
            "tags": []
          }
        }
      ]
    },
    {
      "cell_type": "markdown",
      "metadata": {
        "id": "b_gnkV0cH9od",
        "colab_type": "text"
      },
      "source": [
        "<b>Idea: To compare how many patients out of positive cases were hospitalized [States separated and combined both]</b><br>\n",
        "From the curve of the above plot we can see that as the number of positive cases kept on increasing there was a simultaneous increase in patients who were hospitalized which also led to the high number of recoveries and low death rate for both the states.<br>\n",
        "The plot on the right summaries the combined information for us."
      ]
    },
    {
      "cell_type": "code",
      "metadata": {
        "id": "66Qun6T0H_8F",
        "colab_type": "code",
        "outputId": "717c7e70-925f-4e6b-f767-93cd71d7a0d2",
        "colab": {
          "base_uri": "https://localhost:8080/",
          "height": 572
        }
      },
      "source": [
        "#Plot 3:Comparison of the number of recoveries and deaths[States separated and combined both]\n",
        "\n",
        "fig, axes = plt.subplots(nrows=1, ncols=2, figsize=(14, 8))\n",
        "axes[1].set_yscale('log')\n",
        "axes[0].plot(data_TX[\"date\"],data_TX[\"recovered\"],'-g', label='Texas-recovered');\n",
        "axes[0].plot(data_TX[\"date\"],data_TX[\"death\"],'-r', label='Texas-deaths');\n",
        "\n",
        "axes[0].tick_params(axis='x', labelrotation=75)\n",
        "\n",
        "axes[0].plot(data_NM[\"date\"],data_NM[\"recovered\"],'-b', label='New Mexico-recovered');\n",
        "axes[0].plot(data_NM[\"date\"],data_NM[\"death\"],'-y', label='New Mexico-deaths');\n",
        "axes[0].set(title = \"Comparison of number of recoveries and deaths\",xlabel = \"Date\",ylabel = \"Count\");\n",
        "axes[0].legend(fancybox=True, framealpha=1, borderpad=1)\n",
        "\n",
        "axes[1].plot(comb_data[\"date\"],comb_data[\"recovered\"],'-r', label='combined-recovered');\n",
        "axes[1].plot(comb_data[\"date\"],comb_data[\"death\"],'-b', label='combined-deaths');\n",
        "axes[1].set(title = \"Comparison of number of recoveries and deaths\",xlabel = \"Date\",ylabel = \"Count\");\n",
        "axes[1].legend(fancybox=True, framealpha=1, borderpad=1)\n",
        "axes[1].tick_params(axis='x', labelrotation=75)\n"
      ],
      "execution_count": 0,
      "outputs": [
        {
          "output_type": "display_data",
          "data": {
            "image/png": "[encoded data removed]",
            "text/plain": [
              "<Figure size 1008x576 with 2 Axes>"
            ]
          },
          "metadata": {
            "tags": []
          }
        }
      ]
    },
    {
      "cell_type": "markdown",
      "metadata": {
        "id": "PwMn46P1ICIn",
        "colab_type": "text"
      },
      "source": [
        "<b>Idea:To compare the number of recoveries and deaths[States separated and combined both]</b><br>\n",
        "From the above graph we can see that the recovery rate for Texas has been really great while the death rate has had a really slow growth. For New Mexico, the recovery rate has been okay in comparison to the death rate which looks like a good sign.<br>\n",
        "The plot on the right is on a logarithmic scale and displays the combined stats for the combined region."
      ]
    },
    {
      "cell_type": "code",
      "metadata": {
        "id": "Nu6VRN7MIEYL",
        "colab_type": "code",
        "outputId": "a93b0bc6-b08d-43f9-f5a8-2b948ec354a3",
        "colab": {
          "base_uri": "https://localhost:8080/",
          "height": 572
        }
      },
      "source": [
        "#Plot 4:Comparison of increase in number of positive cases[States separated and combined both]\n",
        "\n",
        "fig, axes = plt.subplots(nrows=1, ncols=2, figsize=(14, 8))\n",
        "\n",
        "axes[0].plot(data_TX[\"date\"],data_TX[\"positiveIncrease\"],'-g', label='Texas-increase in positive #cases');\n",
        "axes[0].tick_params(axis='x', labelrotation=75)\n",
        "\n",
        "axes[0].plot(data_NM[\"date\"],data_NM[\"positiveIncrease\"],'-b', label='New Mexico-increase in positive #cases');\n",
        "axes[0].set(title = \"Comparison of number of recoveries and #cases\",xlabel = \"Date\",ylabel = \"Count\");\n",
        "axes[0].legend(fancybox=True, framealpha=1, borderpad=1)\n",
        "\n",
        "axes[1].plot(comb_data[\"date\"],comb_data[\"positiveIncrease\"],'-r', label='combined-increase in positive #cases');\n",
        "axes[1].set(title = \"Comparison of increase in positive cases\",xlabel = \"Date\",ylabel = \"Count\");\n",
        "axes[1].legend(fancybox=True, framealpha=1, borderpad=1)\n",
        "axes[1].tick_params(axis='x', labelrotation=75)\n",
        "axes[1].set_yscale('log')\n"
      ],
      "execution_count": 0,
      "outputs": [
        {
          "output_type": "display_data",
          "data": {
            "image/png": "[encoded data removed]",
            "text/plain": [
              "<Figure size 1008x576 with 2 Axes>"
            ]
          },
          "metadata": {
            "tags": []
          }
        }
      ]
    },
    {
      "cell_type": "markdown",
      "metadata": {
        "id": "Wem75YkHIGBm",
        "colab_type": "text"
      },
      "source": [
        "<b>Idea:To compare increase in number of positive cases[States separated and combined both]</b><br>\n",
        "From the above line chart, we can clearly see that the count of positive cases was much more in Texas than in New Mexico and the number fluctuates quite a lot for both the states. We also noticed a sudden spike around April first week which relates to the news headline \"Sixty residents and nine staff members at a San Antonio nursing home have been infected with COVID-19\". Similarly, in the week around March 15 there is also a sudden spike relating to the news \"Dallas County Judge Clay Jenkins announced five additional positive cases with one of the cases being the first instance of community spread in the North Texas area.\". Similarly for New Mexico, we see a spike around April 4 as \"51 new cases are reported with 23 in Bernalillo, 9 in San Juan, 6 in Santa Fe, 4 in Cibola, 3 in Torrance, 2 in Sandoval, and the first reported cases in Lincoln and Los Alamos counties and one new case in McKinley and Rio Arriba counties bringing the statewide total to 543.\"<br>\n",
        "Apart from that we can also see that the increase on the logarithmic scale keeps up with the general distribution of increase in covid positive numbers.\n"
      ]
    },
    {
      "cell_type": "code",
      "metadata": {
        "id": "ugCxA36AIIV6",
        "colab_type": "code",
        "outputId": "dfb6830d-8652-4dcf-8c00-7e6f970c442f",
        "colab": {
          "base_uri": "https://localhost:8080/",
          "height": 572
        }
      },
      "source": [
        "#Plot 5:Comparison of total number of cases[States separated and combined both]\n",
        "\n",
        "fig, axes = plt.subplots(nrows=1, ncols=2, figsize=(14, 8))\n",
        "\n",
        "axes[0].bar(data_TX[\"date\"],data_TX[\"total\"],label='Texas');\n",
        "\n",
        "axes[0].bar(data_NM[\"date\"],data_NM[\"total\"],label='New Mexico');\n",
        "axes[0].tick_params(axis='x', labelrotation=75)\n",
        "axes[0].set(title = \"Comparison of total #cases\",xlabel = \"Date\",ylabel = \"Count\");\n",
        "axes[0].legend(fancybox=True, framealpha=1, borderpad=1)\n",
        "\n",
        "axes[1].bar(comb_data[\"date\"],comb_data[\"total\"], label='Combined');\n",
        "axes[1].set(title = \"Comparison of total #cases\",xlabel = \"Date\",ylabel = \"Count\");\n",
        "axes[1].legend(fancybox=True, framealpha=1, borderpad=1)\n",
        "axes[1].tick_params(axis='x', labelrotation=75)\n",
        "axes[1].set_yscale('log')\n"
      ],
      "execution_count": 0,
      "outputs": [
        {
          "output_type": "display_data",
          "data": {
            "image/png": "[encoded data removed]",
            "text/plain": [
              "<Figure size 1008x576 with 2 Axes>"
            ]
          },
          "metadata": {
            "tags": []
          }
        }
      ]
    },
    {
      "cell_type": "markdown",
      "metadata": {
        "id": "EmXUkwHCIKZG",
        "colab_type": "text"
      },
      "source": [
        "<b>Idea: To compare the total number of cases of the two states[States separated and combined both]</b><br>\n",
        "A histogram seemed like a good idea here to see the growth rate and as we can see the number of cases increased exponentially day by day. The plot on the right is on a logarithmic scale which confirms the belief that the growth in the number of corona virus cases increases exponentially."
      ]
    },
    {
      "cell_type": "code",
      "metadata": {
        "id": "wdnXNs8wINFI",
        "colab_type": "code",
        "outputId": "23c2c36b-cc0f-4a90-cc40-982273a72a02",
        "colab": {
          "base_uri": "https://localhost:8080/",
          "height": 829
        }
      },
      "source": [
        "#Plot 6:Comparison of final stats till the latest data available for Texas and New Mexico\n",
        "data_TX_red=data_TX[['positive','negative','death','recovered']]\n",
        "data_TX_red=data_TX_red.astype(int)\n",
        "TX_sum=data_TX_red.sum(axis=0)\n",
        "\n",
        "data_NM_red=data_NM[['positive','negative','death','recovered']]\n",
        "data_NM_red=data_NM_red.astype(int)\n",
        "NM_sum=data_NM_red.sum(axis=0)\n",
        "\n",
        "fig, axes = plt.subplots(nrows=1, ncols=2, figsize=(15, 12))\n",
        "\n",
        "labels = 'positive','negative','death','recovered'\n",
        "colors = ['red', 'yellowgreen', 'black', 'lightskyblue']\n",
        "explode = (0, 0.1, 0, 0) \n",
        "axes[0].pie(TX_sum,labels=labels, colors=colors,explode = explode,autopct='%1.1f%%',shadow=True,startangle=140,pctdistance=1.1, labeldistance=1.2)\n",
        "axes[0].set(title='Texas')\n",
        "axes[1].pie(NM_sum,labels=labels, colors=colors,explode = explode,autopct='%1.1f%%',shadow=True,startangle=140,pctdistance=1.1, labeldistance=1.2)\n",
        "axes[1].set(title='New Mexico')\n",
        "\n",
        "#plt.title('Comparison of final stats till the latest data available for Texas and New Mexico',loc='left')\n",
        "plt.axis('equal')\n",
        "plt.tight_layout()\n",
        "plt.show()"
      ],
      "execution_count": 0,
      "outputs": [
        {
          "output_type": "display_data",
          "data": {
            "image/png": "[encoded data removed]",
            "text/plain": [
              "<Figure size 1080x864 with 2 Axes>"
            ]
          },
          "metadata": {
            "tags": []
          }
        }
      ]
    },
    {
      "cell_type": "markdown",
      "metadata": {
        "id": "vFVSmsUCIO_-",
        "colab_type": "text"
      },
      "source": [
        "<b>Idea: To compare the final statistics of the two states till the latest data available.</b><br>\n",
        "A pie chart makes it easy to compare and we can see from the above plot that a very large percentage of tests carried out were negative for both the states and out of the percentage of positive cases the death percentage is extremely small which is a good thing."
      ]
    },
    {
      "cell_type": "markdown",
      "metadata": {
        "id": "J25FVZ_zZ4Zv",
        "colab_type": "text"
      },
      "source": [
        "#Required Inferences"
      ]
    },
    {
      "cell_type": "code",
      "metadata": {
        "id": "8rKh-V40eCWM",
        "colab_type": "code",
        "colab": {}
      },
      "source": [
        "#Required cleanup for this inference\n",
        "df = pd.read_csv('daily.csv')\n",
        "#Read data from texas and new mexico\n",
        "df = df[df[\"state\"].isin([\"TX\", \"NM\"])]\n",
        "df['date'] = pd.to_datetime(df['date'], format='%Y%m%d')\n",
        "df = df.sort_values('date')\n",
        "df.fillna(0, inplace=True)\n",
        "\n",
        "#Extract the data for the two relevant weeks\n",
        "week_one = df.iloc[len(df) - 14:len(df) - 7]\n",
        "week_n = df.iloc[len(df) - 7:, :]"
      ],
      "execution_count": 0,
      "outputs": []
    },
    {
      "cell_type": "markdown",
      "metadata": {
        "id": "1Dg2r426Z4Td",
        "colab_type": "text"
      },
      "source": [
        "##Required Inference 1\n",
        "Time Series"
      ]
    },
    {
      "cell_type": "code",
      "metadata": {
        "id": "UBMm1lAtZ2Sf",
        "colab_type": "code",
        "colab": {}
      },
      "source": [
        "# Functions to compute timeseries p: p value for AR(p); data: Data; num: the number of days to predict\n",
        "def AR(p, data, num =7):\n",
        "    #Create Training data for the beta values\n",
        "    y = []\n",
        "    x = []\n",
        "    #All but the last few days determined by the variable num\n",
        "    for i in range(p, len(data)-num):\n",
        "        y.append(data[i])\n",
        "        temp = []\n",
        "        for j in range(1, p + 1):\n",
        "            temp.append(data[i-j])\n",
        "        x.append(temp)\n",
        "\n",
        "    real_values = data[len(data)-num:]\n",
        "    x = np.array(x)\n",
        "    y_orig = y\n",
        "    y = np.array(y)\n",
        "    #X is of shape(n, p)\n",
        "    X = x.reshape(len(x), p)\n",
        "    X = np.c_[ X, np.ones(len(X)) ]\n",
        "    #Y is of shape (n, 1)\n",
        "    Y = y.reshape(len(y), 1)\n",
        "    #Computing the beta values. Similar to the linear regression.\n",
        "    b = inv(X.T.dot(X)).dot(X.T).dot(Y) # The beta values\n",
        "    #Predicting the next num values\n",
        "    ans = []\n",
        "    #Predict the values for num number of days\n",
        "    for i in range(0, num):\n",
        "        pred = 0\n",
        "        for j in range(1, p+1):\n",
        "            pred = pred + y_orig[len(y_orig)-j] * b[j-1]\n",
        "        pred = pred + b[p]\n",
        "        ans.append(pred[0])\n",
        "        y_orig.append(pred)\n",
        "        \n",
        "    #Printing the real and the computed values. Can comment out\n",
        "    print(\"Real Data\", real_values)\n",
        "    print(\"Predicted Values\", ans)\n",
        "    #Computing MAPE\n",
        "    sums = 0\n",
        "    for i in range(0, len(ans)):\n",
        "        diff = (abs(real_values[i]-ans[i])/real_values[i]) * 100\n",
        "        sums = sums + diff\n",
        "    sums = sums/len(real_values)\n",
        "    #Computing MSE\n",
        "    MSE = np.sum(np.square(real_values - ans))/len(real_values)\n",
        "    #Returning MAPE% and MSE\n",
        "    return {\"MAPE %\": sums, \"MSE\": MSE}\n",
        "\n",
        "#Function to predict data using EWMA; Arguments self explanatory\n",
        "def EWMA(data, alpha, num=7):\n",
        "    #Initialize and find the last predicted value\n",
        "    y_last_predicted = data[0]\n",
        "    for i in range(1, len(data)-num):\n",
        "        y_last_predicted = y_last_predicted * (1 - alpha) + data[i] * alpha\n",
        "    ans = []\n",
        "    #Use the num variable to get the real values for the final computation\n",
        "    real_values = data[len(data)-num: ]\n",
        "    #Compute the values\n",
        "    for i in range(len(data)-num, len(data)):\n",
        "        x = data[i] * alpha + y_last_predicted * (1 - alpha)\n",
        "        ans.append(x)\n",
        "    #Print the data\n",
        "    print(\"Real Data\", real_values)\n",
        "    print(\"Predicted Values\", ans)\n",
        "    sums = 0\n",
        "    #Calculate MAPE\n",
        "    for i in range(0, len(ans)):\n",
        "        diff = (abs(real_values[i]-ans[i])/real_values[i]) * 100\n",
        "        sums = sums + diff\n",
        "    sums = sums/len(real_values)\n",
        "    #Calculate MSE\n",
        "    MSE = np.sum(np.square(real_values - ans))/len(real_values)\n",
        "    return {\"MAPE %\": sums, \"MSE\": MSE}"
      ],
      "execution_count": 0,
      "outputs": []
    },
    {
      "cell_type": "code",
      "metadata": {
        "id": "oK3LaLHLbMQQ",
        "colab_type": "code",
        "outputId": "2f96f8da-0196-44c2-df38-0db94708524d",
        "colab": {
          "base_uri": "https://localhost:8080/",
          "height": 241
        }
      },
      "source": [
        "deaths = df[\"death\"].to_numpy()\n",
        "print(AR(3, deaths))\n",
        "print(AR(5, deaths))\n",
        "print(EWMA(deaths, 0.5))\n",
        "print(EWMA(deaths, 0.8))"
      ],
      "execution_count": 0,
      "outputs": [
        {
          "output_type": "stream",
          "text": [
            "Real Data [ 93. 663.  99. 690. 104. 732. 110.]\n",
            "Predicted Values [187.19813837614174, 472.2577140470745, 304.28113120679143, 364.1020729601822, 341.7066191961495, 324.69127389170734, 334.9096665753532]\n",
            "{'MAPE %': 124.75925953891621, 'MSE': 66656.41484216123}\n",
            "Real Data [ 93. 663.  99. 690. 104. 732. 110.]\n",
            "Predicted Values [170.41304491950748, 540.3997417586422, 267.3193676465436, 511.6652243293061, 323.14829321464885, 474.8411118091806, 375.53017258410944]\n",
            "{'MAPE %': 112.11976197992252, 'MSE': 37974.46361856933}\n",
            "Real Data [ 93. 663.  99. 690. 104. 732. 110.]\n",
            "Predicted Values [275.16120950963773, 560.1612095096377, 278.16120950963773, 573.6612095096377, 280.66120950963773, 594.6612095096377, 283.66120950963773]\n",
            "{'MAPE %': 107.95964504695168, 'MSE': 24231.61689319507}\n",
            "Real Data [ 93. 663.  99. 690. 104. 732. 110.]\n",
            "Predicted Values [185.0366675195392, 641.0366675195392, 189.83666751953922, 662.6366675195392, 193.83666751953922, 696.2366675195392, 198.63666751953923]\n",
            "{'MAPE %': 52.83466990266051, 'MSE': 5022.755697476369}\n"
          ],
          "name": "stdout"
        }
      ]
    },
    {
      "cell_type": "markdown",
      "metadata": {
        "id": "eFQxrV9pc_ts",
        "colab_type": "text"
      },
      "source": [
        "##Required Inference 2\n",
        "Walds, Z and T test"
      ]
    },
    {
      "cell_type": "code",
      "metadata": {
        "id": "JQfaaS1NbSyt",
        "colab_type": "code",
        "colab": {}
      },
      "source": [
        "#Sample mean calculation\n",
        "def calc_sample_mean(data):\n",
        "    n = len(data)\n",
        "    sum = 0\n",
        "    for i in data:\n",
        "        sum += i\n",
        "    return sum / n\n",
        "#As described in the class\n",
        "def calc_normal_mle(data):\n",
        "    u_hat = calc_sample_mean(data)\n",
        "    sigma_hat = 0\n",
        "    for i in data:\n",
        "        sigma_hat += (i - u_hat) * (i - u_hat)\n",
        "    sigma_hat = sigma_hat / len(data)\n",
        "    return round(u_hat, 3), round(sigma_hat, 3)\n",
        "\n",
        "#One tailed test\n",
        "def walds_test(X, u, H0):\n",
        "    #MLE\n",
        "    mu_x_hat, var_x_hat = calc_normal_mle(X)\n",
        "    delta_hat = mu_x_hat - u\n",
        "    se_hat = np.sqrt(var_x_hat/len(X))\n",
        "    #Calculating W\n",
        "    W = np.absolute(delta_hat/se_hat)\n",
        "    if W > 1.96:\n",
        "        print(\"walds_test: Rejecting the null hypothesis: \", H0, \" With value W=\",W)\n",
        "    else:\n",
        "        print(\"walds_test: Accepting the null hypothesis: \", H0, \" With value W=\",W)\n",
        "#Two tailed test\n",
        "def walds_two_tail_test(X, Y, H0):\n",
        "    #Calculating Mean\n",
        "    mu_x_hat = calc_sample_mean(X)\n",
        "    mu_y_hat = calc_sample_mean(Y)\n",
        "    delta_hat = mu_x_hat - mu_y_hat\n",
        "    var_x = np.sum(np.square(X-mu_x_hat))/len(X)\n",
        "    var_y = np.sum(np.square(Y-mu_y_hat))/len(Y)\n",
        "    #SE hat\n",
        "    se_hat = np.sqrt((var_x + var_y)/len(X))\n",
        "    #Calculate W\n",
        "    W = np.absolute(delta_hat/se_hat)\n",
        "    if W > 1.96:\n",
        "        print(\"walds_two_tail_test: Rejecting the null hypothesis: \", H0, \" With value W=\",W)\n",
        "    else:\n",
        "        print(\"walds_two_tail_test: Accepting the null hypothesis: \", H0, \" With value W=\",W)\n",
        "#Z Test\n",
        "def z_test(X, sigma, u, H0):\n",
        "    x_bar = np.mean(X)\n",
        "    n = len(X)\n",
        "    #Calculate Z\n",
        "    Z = (x_bar - u)/(sigma/np.sqrt(n))\n",
        "    if Z > 1.96:\n",
        "        print(\"z_test: Rejecting the null hypothesis: \", H0, \" With value Z=\",Z)\n",
        "    else:\n",
        "        print(\"z_test: Accepting the null hypothesis: \", H0, \" With value Z=\",Z)\n",
        "\n",
        "def t_test(X, u, H0, alpha = 0.05):\n",
        "    x_bar = np.mean(X)\n",
        "    n = len(X) - 1\n",
        "    sigma = np.std(X)\n",
        "    #Calculate T\n",
        "    T = np.abs((x_bar - u)/(sigma/np.sqrt(n)))\n",
        "    val = stats.t.ppf(1-alpha, n-1)\n",
        "    if T > val:\n",
        "        print(\"t_test: Rejecting the null hypothesis: \", H0, \" With value T=\",T)\n",
        "    else:\n",
        "        print(\"t_test: Accepting the null hypothesis: \", H0, \" With value T=\",T)\n",
        "#Two Sample tests\n",
        "def t_test_two_tailed_paired(X, Y, H0):\n",
        "    D = X-Y\n",
        "    n = len(D)\n",
        "    d_bar = np.mean(D)\n",
        "    sigma = np.std(D)\n",
        "    se = sigma/(np.sqrt(n))\n",
        "    T = np.abs(d_bar/se)\n",
        "    alpha = 0.05/2\n",
        "    val = stats.t.ppf(1-alpha, n-1)\n",
        "    if T > val:\n",
        "        print(\"t_test_two_tailed_paired: Rejecting the null hypothesis: \", H0, \" With value T=\",T)\n",
        "    else:\n",
        "        print(\"t_test_two_tailed_paired: Accepting the null hypothesis: \", H0, \" With value T=\",T)\n",
        "\n",
        "#Two sample unpaired test\n",
        "def t_test_two_tailed_unpaired(X, Y, H0):\n",
        "    D = X-Y\n",
        "    n = len(D)\n",
        "    s_x = np.std(X)\n",
        "    s_y = np.std(Y)\n",
        "    #Calculate pooled std\n",
        "    pooled_std = np.sqrt((np.square(s_x) / n) + (np.square(s_y) / n))\n",
        "    d_bar = np.mean(D)\n",
        "    #Calculate T\n",
        "    T = np.abs(d_bar/pooled_std)\n",
        "    alpha = 0.05/2\n",
        "    val = stats.t.ppf(1-alpha, n-1)\n",
        "    if T > val:\n",
        "        print(\"t_test_two_tailed_unpaired: Rejecting the null hypothesis: \", H0, \" With value T=\",T)\n",
        "    else:\n",
        "        print(\"t_test_two_tailed_unpaired: Accepting the null hypothesis: \", H0, \" With value T=\",T)\n"
      ],
      "execution_count": 0,
      "outputs": []
    },
    {
      "cell_type": "code",
      "metadata": {
        "id": "IN6H8HvJdvC2",
        "colab_type": "code",
        "colab": {}
      },
      "source": [
        "#@Warning the column values are imputed with 0 inplace\n",
        "def inference_two(column, H0):\n",
        "    df[column].fillna(0, inplace=True)\n",
        "    mu = week_one[column].mean()\n",
        "    c_array_wn = week_n[column].to_numpy()\n",
        "    c_array_w1 = week_one[column].to_numpy()\n",
        "    sigma = df[column].std()\n",
        "    walds_test(c_array_wn, mu, H0)\n",
        "    walds_two_tail_test(c_array_w1, c_array_wn, H0)\n",
        "    z_test(c_array_wn, sigma, mu, H0)\n",
        "    t_test(c_array_wn, mu, H0)\n",
        "    t_test_two_tailed_paired(c_array_w1, c_array_wn, H0)\n",
        "    t_test_two_tailed_unpaired(c_array_w1, c_array_wn, H0)"
      ],
      "execution_count": 0,
      "outputs": []
    },
    {
      "cell_type": "code",
      "metadata": {
        "id": "L8El6V1adwiC",
        "colab_type": "code",
        "outputId": "982b6d10-0962-4847-9109-66e4b6782ea2",
        "colab": {
          "base_uri": "https://localhost:8080/",
          "height": 139
        }
      },
      "source": [
        "#On the Death column\n",
        "inference_two(\"death\", \"Mean of Covid 19 deaths in second last and last week of dataset is the same\")"
      ],
      "execution_count": 0,
      "outputs": [
        {
          "output_type": "stream",
          "text": [
            "walds_test: Accepting the null hypothesis:  Mean of Covid 19 deaths in second last and last week of dataset is the same  With value W= 0.21445329512670405\n",
            "walds_two_tail_test: Accepting the null hypothesis:  Mean of Covid 19 deaths in second last and last week of dataset is the same  With value W= 0.15997737074729546\n",
            "z_test: Accepting the null hypothesis:  Mean of Covid 19 deaths in second last and last week of dataset is the same  With value Z= -0.33500965643443403\n",
            "t_test: Accepting the null hypothesis:  Mean of Covid 19 deaths in second last and last week of dataset is the same  With value T= 0.19854398185384695\n",
            "t_test_two_tailed_paired: Accepting the null hypothesis:  Mean of Covid 19 deaths in second last and last week of dataset is the same  With value T= 0.13185244332785478\n",
            "t_test_two_tailed_unpaired: Accepting the null hypothesis:  Mean of Covid 19 deaths in second last and last week of dataset is the same  With value T= 0.15997737074729523\n"
          ],
          "name": "stdout"
        }
      ]
    },
    {
      "cell_type": "code",
      "metadata": {
        "id": "2fp6l_OOdyLl",
        "colab_type": "code",
        "outputId": "1412b334-6295-450c-87f7-ca36e93662cb",
        "colab": {
          "base_uri": "https://localhost:8080/",
          "height": 139
        }
      },
      "source": [
        "#Running on the total column\n",
        "inference_two(\"total\", \"Total Covid 19 cases in second last and last week of dataset is the same\")"
      ],
      "execution_count": 0,
      "outputs": [
        {
          "output_type": "stream",
          "text": [
            "walds_test: Accepting the null hypothesis:  Total Covid 19 cases in second last and last week of dataset is the same  With value W= 0.028661866518321706\n",
            "walds_two_tail_test: Accepting the null hypothesis:  Total Covid 19 cases in second last and last week of dataset is the same  With value W= 0.021860515114876786\n",
            "z_test: Accepting the null hypothesis:  Total Covid 19 cases in second last and last week of dataset is the same  With value Z= -0.04509816638243091\n",
            "t_test: Accepting the null hypothesis:  Total Covid 19 cases in second last and last week of dataset is the same  With value T= 0.026535729228428343\n",
            "t_test_two_tailed_paired: Accepting the null hypothesis:  Total Covid 19 cases in second last and last week of dataset is the same  With value T= 0.01799005406982224\n",
            "t_test_two_tailed_unpaired: Accepting the null hypothesis:  Total Covid 19 cases in second last and last week of dataset is the same  With value T= 0.021860515114876578\n"
          ],
          "name": "stdout"
        }
      ]
    },
    {
      "cell_type": "markdown",
      "metadata": {
        "id": "rKe6EIH5eoKt",
        "colab_type": "text"
      },
      "source": [
        "### Conclusion\n",
        "####Applicability \n",
        "Below we check the applicability of the tests. \n",
        "###Walds test\n",
        "Since the walds test requires the estimator to be asymptotically normal this test is not applicable in this current data. \n",
        "###Z-Test\n",
        "In Z test we know that either the number of datapoints needs to be very high or the points should follow a normal distribution. In our case none of the above is true hence Z test is not applicable as well.\n",
        "###T-Test\n",
        "T-test is usually used when we have small number of datapoints. But the test still requires the datapoints to be in normal distribution. Hence if we can't prove the values are normally distributed this test won't be applicable as well. \n",
        "\n",
        "Now Since the number of deaths per day or the number of total cases are not normally distributed we can say that the above tests are not applicable in the current state. "
      ]
    },
    {
      "cell_type": "markdown",
      "metadata": {
        "id": "Ey4C3GclfizD",
        "colab_type": "text"
      },
      "source": [
        "##Required Inference 3\n",
        "KS Test and P-Test"
      ]
    },
    {
      "cell_type": "code",
      "metadata": {
        "id": "nAi9xqD-eN92",
        "colab_type": "code",
        "colab": {}
      },
      "source": [
        "#Helper functions\n",
        "#Calculating the MME based on class derivations.\n",
        "def calculate_poission_mme(data):\n",
        "    return  round(calc_sample_mean(data), 3)\n",
        "\n",
        "def calc_geometric_mme(data):\n",
        "    return round(1 / calc_sample_mean(data), 3)\n",
        "\n",
        "def calc_square_sum(data):\n",
        "    square_sum = 0\n",
        "    for i in data:\n",
        "        square_sum += i * i\n",
        "    return square_sum\n",
        "\n",
        "def calc_second_moment(data):\n",
        "    return calc_square_sum(data) / len(data)\n",
        "\n",
        "def calc_binomeal_mme(data):\n",
        "    u_hat = calc_sample_mean(data)\n",
        "    sub = 0\n",
        "    for d in data:\n",
        "        sub = sub + pow(d - u_hat, 2)\n",
        "    sub = sub/np.sum(data)\n",
        "    p = 1 - sub\n",
        "    n = u_hat/p\n",
        "    return n, p"
      ],
      "execution_count": 0,
      "outputs": []
    },
    {
      "cell_type": "code",
      "metadata": {
        "id": "s0GYqqjjfqWA",
        "colab_type": "code",
        "colab": {}
      },
      "source": [
        "#Ks Two Sample test\n",
        "def ks_test_two_sample(X, Y, c, H0):\n",
        "    if len(Y) < len(X):\n",
        "        ks_test_two_sample(Y, X)\n",
        "        return\n",
        "    #X is always the smaller set or equal in this particular case.\n",
        "    counter_x = Counter(X)\n",
        "    counter_y = Counter(Y)\n",
        "    #Get number of change points\n",
        "    change_points = len(Y)\n",
        "    #Calculate the increments\n",
        "    inc = (1/change_points)\n",
        "    sorted_y = sorted(Y)\n",
        "    prev = 0\n",
        "    max_diff = -sys.maxsize - 1\n",
        "    #Run through all the unique values in x\n",
        "    for val in sorted(counter_x.keys()):\n",
        "        ch = 0\n",
        "        #Find all the values smaller than val in Y and add to ch\n",
        "        for v in sorted(counter_y.keys()):\n",
        "            if v > val:\n",
        "                break\n",
        "            ch = ch + inc * counter_y[v]\n",
        "        v1 = ch\n",
        "        v2 = prev\n",
        "        v3 = prev + inc * counter_x[val]\n",
        "        prev = v3\n",
        "        #Check and update max difference\n",
        "        max_diffn = max(max_diff, max(abs(v1-v2), abs(v1-v3)))\n",
        "        if max_diffn != max_diff:\n",
        "            max_diff = max_diffn\n",
        "    if max_diff > c:\n",
        "         print(\"KS_test: Rejecting the null hypothesis: \", H0, \" With value D=\",max_diff)\n",
        "    else:\n",
        "        print(\"KS_test: Accepting the null hypothesis: \", H0, \" With value D=\",max_diff)\n",
        "\n",
        "#The cdf data contains the values for the proposed distribution. (ex: binomial)\n",
        "def ks_test(data, cdf_data, c, H0):\n",
        "    change_points = len(data)\n",
        "    dictionary = Counter(data)\n",
        "    unique_values = sorted(dictionary.keys())\n",
        "    F_Y_x = []\n",
        "    F_hat_X_x_mi = []\n",
        "    F_hat_X_x_ma = []\n",
        "    prev = 0\n",
        "    #Calculate the increments\n",
        "    inc = (1/change_points)\n",
        "    max_diff = -sys.maxsize - 1\n",
        "    for val in unique_values:\n",
        "        v1 = cdf_data[val]#distribution.cdf(val, lambda_hat)\n",
        "        v2 = prev\n",
        "        #The number of times this value is seen is the dataset times the increment\n",
        "        prev = prev + inc * dictionary[val]\n",
        "        v3 = prev\n",
        "        F_Y_x.append(v1)\n",
        "        F_hat_X_x_mi.append(v2)\n",
        "        F_hat_X_x_ma.append(v3)\n",
        "        #Check and update the max difference\n",
        "        max_diff = max(max_diff, max(abs(v1-v2), abs(v1-v3)))\n",
        "    if max_diff > c:\n",
        "         print(\"KS_test: Rejecting the null hypothesis: \", H0, \" With value D=\",max_diff)\n",
        "    else:\n",
        "        print(\"KS_test: Accepting the null hypothesis: \", H0, \" With value D=\",max_diff)\n",
        "\n",
        "def permutation_test(X, Y, p_count, p_threshold):\n",
        "    x_bar = np.mean(X)\n",
        "    y_bar = np.mean(Y)\n",
        "    #Observed statistic\n",
        "    t_obs = abs(x_bar - y_bar)\n",
        "    C = np.concatenate((X, Y))\n",
        "    count = 0\n",
        "    #Run the test p_count times\n",
        "    for i in range(p_count):\n",
        "        p = np.random.permutation(C)\n",
        "        mid = int(len(C) / 2)\n",
        "        t_i = abs(np.mean(p[:mid]) - np.mean(p[mid:]))\n",
        "        if t_i > t_obs:\n",
        "            count += 1\n",
        "    #Calculating the p value\n",
        "    p_value = count / p_count\n",
        "    if p_value <= p_threshold:\n",
        "        print(\"P-Test: Rejecting Null Hypothesis, X and Y don't come from same distribution with p value\", p_value)\n",
        "    else:\n",
        "        print(\"P-Test: Accepting Null Hypothesis, X and Y come from same distribution with p value\", p_value)\n"
      ],
      "execution_count": 0,
      "outputs": []
    },
    {
      "cell_type": "code",
      "metadata": {
        "id": "WJ2gF4pqf2Os",
        "colab_type": "code",
        "outputId": "babb86e9-42a2-41d2-de9d-b9796355a941",
        "colab": {
          "base_uri": "https://localhost:8080/",
          "height": 122
        }
      },
      "source": [
        "###Deaths\n",
        "#Poisson test 1 sample ks\n",
        "lambda_hat = calculate_poission_mme(week_one[\"death\"].to_numpy())\n",
        "death2 = week_n[\"death\"].to_numpy()\n",
        "val_to_cdf_dic = {}\n",
        "for d in death2:\n",
        "    val_to_cdf_dic[d] = stats.poisson.cdf(d, lambda_hat)\n",
        "\n",
        "ks_test(death2, val_to_cdf_dic, 0.05, \"Deaths belong to poisson distribution\")\n",
        "\n",
        "#Geometric Distribution\n",
        "geometric_mean = calc_geometric_mme(week_one[\"death\"].to_numpy())\n",
        "val_to_cdf_dic = {}\n",
        "for d in death2:\n",
        "    val_to_cdf_dic[d] = stats.geom.cdf(d, geometric_mean)\n",
        "ks_test(death2, val_to_cdf_dic, 0.05, \"Deaths belong to Geometric distribution\")\n",
        "\n",
        "#Binomial Distribution\n",
        "n, p = calc_binomeal_mme(week_one[\"death\"].to_numpy())\n",
        "val_to_cdf_dic = {}\n",
        "for d in death2:\n",
        "    val_to_cdf_dic[d] = stats.binom.cdf(d, n, p)\n",
        "ks_test(death2, val_to_cdf_dic, 0.05, \"Deaths belong to Binomial distribution\")\n",
        "\n",
        "#KS Two sample test\n",
        "ks_test_two_sample(week_n[\"death\"].to_numpy(), week_one[\"death\"].to_numpy(), 0.05, \"Second last and last week are from same distribution\")\n",
        "\n",
        "#P-Test\n",
        "X, Y = week_one[\"death\"], week_n[\"death\"]\n",
        "permutation_test(X.to_numpy(), Y.to_numpy(), 50000, 0.05)"
      ],
      "execution_count": 0,
      "outputs": [
        {
          "output_type": "stream",
          "text": [
            "KS_test: Rejecting the null hypothesis:  Deaths belong to poisson distribution  With value D= 0.5714285714285714\n",
            "KS_test: Rejecting the null hypothesis:  Deaths belong to Geometric distribution  With value D= 0.2921476856603765\n",
            "KS_test: Rejecting the null hypothesis:  Deaths belong to Binomial distribution  With value D= 1.0\n",
            "KS_test: Rejecting the null hypothesis:  Second last and last week are from same distribution  With value D= 0.42857142857142855\n",
            "P-Test: Accepting Null Hypothesis, X and Y come from same distribution with p value 0.99954\n"
          ],
          "name": "stdout"
        }
      ]
    },
    {
      "cell_type": "code",
      "metadata": {
        "id": "CHlNX24pgoxs",
        "colab_type": "code",
        "outputId": "bd022523-be0d-4c2e-8f7f-a40fbc41d81f",
        "colab": {
          "base_uri": "https://localhost:8080/",
          "height": 122
        }
      },
      "source": [
        "#Total\n",
        "lambda_hat = calculate_poission_mme(week_one[\"total\"].to_numpy())\n",
        "totals = week_n[\"total\"].to_numpy()\n",
        "val_to_cdf_dic = {}\n",
        "for d in totals:\n",
        "    val_to_cdf_dic[d] = stats.poisson.cdf(d, lambda_hat)\n",
        "\n",
        "ks_test(totals, val_to_cdf_dic, 0.05, \"total belong to poisson distribution\")\n",
        "\n",
        "#Geometric Distribution\n",
        "geometric_mean = calc_geometric_mme(week_one[\"total\"].to_numpy())\n",
        "val_to_cdf_dic = {}\n",
        "for d in totals:\n",
        "    val_to_cdf_dic[d] = stats.geom.cdf(d, geometric_mean)\n",
        "ks_test(totals, val_to_cdf_dic, 0.05, \"total belong to Geometric distribution\")\n",
        "\n",
        "#Binomial Distribution\n",
        "n, p = calc_binomeal_mme(week_one[\"total\"].to_numpy())\n",
        "val_to_cdf_dic = {}\n",
        "for d in totals:\n",
        "    val_to_cdf_dic[d] = stats.binom.cdf(d, n, p)\n",
        "ks_test(totals, val_to_cdf_dic, 0.05, \"total belong to Binomial distribution\")\n",
        "\n",
        "#KS Two sample test\n",
        "ks_test_two_sample(week_n[\"total\"].to_numpy(), week_one[\"total\"].to_numpy(), 0.05, \"Second last and last week are from same distribution\")\n",
        "\n",
        "#P-Test\n",
        "X, Y = week_one[\"total\"], week_n[\"total\"]\n",
        "permutation_test(X.to_numpy(), Y.to_numpy(), 50000, 0.05)"
      ],
      "execution_count": 0,
      "outputs": [
        {
          "output_type": "stream",
          "text": [
            "KS_test: Rejecting the null hypothesis:  total belong to poisson distribution  With value D= 0.5714285714285714\n",
            "KS_test: Rejecting the null hypothesis:  total belong to Geometric distribution  With value D= 0.9999999999999998\n",
            "KS_test: Rejecting the null hypothesis:  total belong to Binomial distribution  With value D= 1.0\n",
            "KS_test: Rejecting the null hypothesis:  Second last and last week are from same distribution  With value D= 0.42857142857142855\n",
            "P-Test: Accepting Null Hypothesis, X and Y come from same distribution with p value 0.99938\n"
          ],
          "name": "stdout"
        }
      ]
    },
    {
      "cell_type": "markdown",
      "metadata": {
        "id": "qnTb0foihHrB",
        "colab_type": "text"
      },
      "source": [
        "##Required Inference 4\n",
        "Correlation\n",
        "\n",
        "\n",
        "**Note:**\n",
        "\n",
        "We are using the financial stock data of TripAdvisor as our X dataset(which is an online travel site for booking tickets to travel around the world.) We sense our covid dataset and this dataset could be related with people travelling all around the globe - they might potentially be carrying and spreading the virus.\n",
        "\n",
        "In this task, let us calculate the pearson correlation to find out if some specific columns between these two are correlated or not."
      ]
    },
    {
      "cell_type": "code",
      "metadata": {
        "id": "qPaXUWkWgtxp",
        "colab_type": "code",
        "colab": {}
      },
      "source": [
        "tx_nm_data =  pd.read_csv(\"tx_nm_data2.csv\")\n",
        "#Reading in data that has dates between march april for getting 1-1.5 month data.\n",
        "tx_nm_data = tx_nm_data[tx_nm_data['date'].astype(str).str.contains(\"202003|202004\", na=False)]\n",
        "# tx_nm_data['date'].unique()\n",
        "#Reading in X dataset - stock data of TripAdvisor\n",
        "trip_stock_data = pd.read_csv(\"TRIP.csv\")\n",
        "trip_stock_data.rename(columns={'Date':'date'}, inplace=True)\n",
        "#We need to format time of datasets to match with the date time format of all.\n",
        "df = pd.DataFrame({'year': tx_nm_data.date.astype(str).str.slice(0,4),\n",
        "                   'month': tx_nm_data.date.astype(str).str.slice(4,6),\n",
        "                   'day': tx_nm_data.date.astype(str).str.slice(6,8)})\n",
        "tx_nm_data['date'] = pd.Series(pd.to_datetime(df))\n",
        "tx_nm_data['date'] = pd.to_datetime(tx_nm_data['date'], utc = True)\n",
        "# nm_data['date'] = pd.to_datetime(nm_data['date'], utc = True)\n",
        "trip_stock_data['date'] = pd.to_datetime(trip_stock_data['date'], utc = True)\n",
        "#Merging data on date as common column\n",
        "tx_nm_stock = pd.merge(tx_nm_data, trip_stock_data, on='date')\n",
        "# nm_stock = pd.merge(nm_data,trip_stock_data,on='date')\n",
        "#Keeping only the date part, time is 00:00:00 anyway\n",
        "tx_nm_stock['date'] = tx_nm_stock['date'].dt.date\n",
        "tx_nm_stock.to_csv(\"tx_nm_stock.csv\")\n"
      ],
      "execution_count": 0,
      "outputs": []
    },
    {
      "cell_type": "markdown",
      "metadata": {
        "id": "cRVnfbuLiY8m",
        "colab_type": "text"
      },
      "source": [
        "**From the X dataset, we are using the column \"Stock Volatility\" as its the most relevant column which gives us the stock price multiplied by the number of stocks bought/sold on a particular date which may or may not be impacted by our COVID data** (we'll see that further!)"
      ]
    },
    {
      "cell_type": "code",
      "metadata": {
        "id": "k34bGVCSh5bf",
        "colab_type": "code",
        "outputId": "ac4f26cd-f6bb-482f-e328-0d41d8eec870",
        "colab": {
          "base_uri": "https://localhost:8080/",
          "height": 34
        }
      },
      "source": [
        "#Calculating pearson correlation between #deaths and stock volatility of tripadvisor\n",
        "mean_x = tx_nm_stock['death'].mean()\n",
        "mean_x\n",
        "mean_y = tx_nm_stock['Volume'].mean()\n",
        "mean_y\n",
        "\n",
        "numerator = 0\n",
        "temp = pd.DataFrame()\n",
        "\n",
        "temp['x'] = tx_nm_stock['death'] - mean_x\n",
        "temp['y'] = tx_nm_stock['Volume'] - mean_y\n",
        "\n",
        "numerator = (temp['x'] * temp['y']).sum()\n",
        "numerator\n",
        "\n",
        "temp['xsq'] = temp['x'] * temp['x']\n",
        "temp['ysq'] = temp['y'] * temp['y']\n",
        "\n",
        "sumofxsquares = temp['xsq'].sum()\n",
        "sumofysquares = temp['ysq'].sum()\n",
        "\n",
        "denominator = np.sqrt(sumofxsquares) * np.sqrt(sumofysquares)\n",
        "denominator\n",
        "\n",
        "pearson_correlation_dv = np.divide(numerator,denominator)\n",
        "pearson_correlation_dv"
      ],
      "execution_count": 0,
      "outputs": [
        {
          "output_type": "execute_result",
          "data": {
            "text/plain": [
              "-0.45852727730530113"
            ]
          },
          "metadata": {
            "tags": []
          },
          "execution_count": 97
        }
      ]
    },
    {
      "cell_type": "code",
      "metadata": {
        "id": "F8dscjsohb8K",
        "colab_type": "code",
        "outputId": "599b9507-24c2-43ef-83dc-253548751d16",
        "colab": {
          "base_uri": "https://localhost:8080/",
          "height": 34
        }
      },
      "source": [
        "#Calculating correlation between #positive cases and stock volatility of trip advisor\n",
        "\n",
        "#Calculating mean of both X and Y => Xbar, Ybar\n",
        "mean_x = tx_nm_stock['positive'].mean()\n",
        "# mean_x\n",
        "mean_y = tx_nm_stock['Volume'].mean()\n",
        "# mean_y\n",
        "\n",
        "numerator = 0\n",
        "temp = pd.DataFrame()\n",
        "\n",
        "#Calculation of X-Xbar, Y - Ybar\n",
        "temp['x'] = tx_nm_stock['positive'] - mean_x\n",
        "temp['y'] = tx_nm_stock['Volume'] - mean_y\n",
        "\n",
        "#Sum of products of (X-Xbar)(Y-Ybar)\n",
        "numerator = (temp['x'] * temp['y']).sum()\n",
        "# numerator\n",
        "\n",
        "temp['xsq'] = temp['x'] * temp['x']\n",
        "temp['ysq'] = temp['y'] * temp['y']\n",
        "\n",
        "sumofxsquares = temp['xsq'].sum()\n",
        "sumofysquares = temp['ysq'].sum()\n",
        "\n",
        "denominator = np.sqrt(sumofxsquares) * np.sqrt(sumofysquares)\n",
        "# denominator\n",
        "\n",
        "pearson_correlation_cv = np.divide(numerator,denominator)\n",
        "pearson_correlation_cv"
      ],
      "execution_count": 0,
      "outputs": [
        {
          "output_type": "execute_result",
          "data": {
            "text/plain": [
              "-0.4915368676458895"
            ]
          },
          "metadata": {
            "tags": []
          },
          "execution_count": 98
        }
      ]
    },
    {
      "cell_type": "code",
      "metadata": {
        "id": "vrskxfggidaN",
        "colab_type": "code",
        "outputId": "c65e5f34-cd22-49a4-bce7-f443228d6584",
        "colab": {
          "base_uri": "https://localhost:8080/",
          "height": 51
        }
      },
      "source": [
        "print(\"The pearson correlation coeffecient between the number of deaths and stock volatility is \",pearson_correlation_dv)\n",
        "if pearson_correlation_dv > 0.5:\n",
        "  print(\"Positive Linear Correlation\")\n",
        "elif pearson_correlation_dv < -0.5:\n",
        "  print(\"Negative linear correlation\")\n",
        "elif pearson_correlation_dv <= 0.5:\n",
        "  print(\"No linear correlation\")"
      ],
      "execution_count": 0,
      "outputs": [
        {
          "output_type": "stream",
          "text": [
            "The pearson correlation coeffecient between the number of deaths and stock volatility is  -0.45852727730530113\n",
            "No linear correlation\n"
          ],
          "name": "stdout"
        }
      ]
    },
    {
      "cell_type": "code",
      "metadata": {
        "id": "fYiseZXeielT",
        "colab_type": "code",
        "outputId": "42ed6db0-b5c3-46b9-f5cd-f75a5eb2e8b5",
        "colab": {
          "base_uri": "https://localhost:8080/",
          "height": 51
        }
      },
      "source": [
        "print(\"The pearson correlation coeffecient between the number of positive cases and stock volatility is \",pearson_correlation_cv)\n",
        "if pearson_correlation_cv > 0.5:\n",
        "  print(\"Positive Linear Correlation\")\n",
        "elif pearson_correlation_cv < -0.5:\n",
        "  print(\"Negative linear correlation\")\n",
        "elif pearson_correlation_cv <= 0.5:\n",
        "  print(\"No linear correlation\")"
      ],
      "execution_count": 0,
      "outputs": [
        {
          "output_type": "stream",
          "text": [
            "The pearson correlation coeffecient between the number of positive cases and stock volatility is  -0.4915368676458895\n",
            "No linear correlation\n"
          ],
          "name": "stdout"
        }
      ]
    },
    {
      "cell_type": "markdown",
      "metadata": {
        "id": "pJQoaCHsilZw",
        "colab_type": "text"
      },
      "source": [
        "**There is no linear correlation observed between the #deaths or stock volatility or even in #positive_cases or stock volatility**\n",
        "\n",
        "But we can surely see that the value is closer to a negative correlation than to a positive one."
      ]
    },
    {
      "cell_type": "markdown",
      "metadata": {
        "id": "d-O0kbuSkEdx",
        "colab_type": "text"
      },
      "source": [
        "##Required Inference 5\n",
        "Prior Posterior."
      ]
    },
    {
      "cell_type": "code",
      "metadata": {
        "id": "3EtuwcSNjhGq",
        "colab_type": "code",
        "colab": {}
      },
      "source": [
        "i=range(7,math.ceil(comb_data.shape[0]/7)*7,7)\n",
        "week=np.split(comb_data,i)"
      ],
      "execution_count": 0,
      "outputs": []
    },
    {
      "cell_type": "code",
      "metadata": {
        "id": "-cqjpoi_o_iZ",
        "colab_type": "code",
        "outputId": "3115a218-4c35-47e2-fbf1-cc997af6c53c",
        "colab": {
          "base_uri": "https://localhost:8080/",
          "height": 1000
        }
      },
      "source": [
        "week"
      ],
      "execution_count": 0,
      "outputs": [
        {
          "output_type": "execute_result",
          "data": {
            "text/plain": [
              "[        date  positive  ...  positiveIncrease  totalTestResultsIncrease\n",
              " 0 2020-03-04       1.0  ...               0.0                       0.0\n",
              " 1 2020-03-05       1.0  ...               0.0                       0.0\n",
              " 2 2020-03-06       5.0  ...               4.0                       4.0\n",
              " 3 2020-03-07       8.0  ...               3.0                      35.0\n",
              " 4 2020-03-08       8.0  ...               0.0                       0.0\n",
              " 5 2020-03-09      12.0  ...               4.0                      13.0\n",
              " 6 2020-03-10      13.0  ...               1.0                      13.0\n",
              " \n",
              " [7 rows x 22 columns],\n",
              "          date  positive  ...  positiveIncrease  totalTestResultsIncrease\n",
              " 7  2020-03-11      24.0  ...              11.0                      29.0\n",
              " 8  2020-03-12      28.0  ...               4.0                      72.0\n",
              " 9  2020-03-13      49.0  ...              21.0                      56.0\n",
              " 10 2020-03-14      61.0  ...              12.0                      59.0\n",
              " 11 2020-03-15      69.0  ...               8.0                     253.0\n",
              " 12 2020-03-16      74.0  ...               5.0                      89.0\n",
              " 13 2020-03-17      87.0  ...              13.0                    1900.0\n",
              " \n",
              " [7 rows x 22 columns],\n",
              "          date  positive  ...  positiveIncrease  totalTestResultsIncrease\n",
              " 14 2020-03-18     111.0  ...              24.0                    1721.0\n",
              " 15 2020-03-19     178.0  ...              67.0                     891.0\n",
              " 16 2020-03-20     237.0  ...              59.0                    3939.0\n",
              " 17 2020-03-21     361.0  ...             124.0                    1259.0\n",
              " 18 2020-03-22     391.0  ...              30.0                    3185.0\n",
              " 19 2020-03-23     417.0  ...              26.0                    1906.0\n",
              " 20 2020-03-24     493.0  ...              76.0                    1699.0\n",
              " \n",
              " [7 rows x 22 columns],\n",
              "          date  positive  ...  positiveIncrease  totalTestResultsIncrease\n",
              " 21 2020-03-25    1074.0  ...             581.0                    3196.0\n",
              " 22 2020-03-26    1508.0  ...             434.0                    8881.0\n",
              " 23 2020-03-27    1867.0  ...             359.0                    2962.0\n",
              " 24 2020-03-28    2243.0  ...             376.0                    2468.0\n",
              " 25 2020-03-29    2789.0  ...             546.0                    2119.0\n",
              " 26 2020-03-30    3114.0  ...             325.0                   10293.0\n",
              " 27 2020-03-31    3547.0  ...             433.0                    8460.0\n",
              " \n",
              " [7 rows x 22 columns],\n",
              "          date  positive  ...  positiveIncrease  totalTestResultsIncrease\n",
              " 28 2020-04-01    4312.0  ...             765.0                    5578.0\n",
              " 29 2020-04-02    5032.0  ...             720.0                    3593.0\n",
              " 30 2020-04-03    5733.0  ...             701.0                    5852.0\n",
              " 31 2020-04-04    6605.0  ...             872.0                    8841.0\n",
              " 32 2020-04-05    7355.0  ...             750.0                    8383.0\n",
              " 33 2020-04-06    7900.0  ...             545.0                   16727.0\n",
              " 34 2020-04-07    8948.0  ...            1048.0                    5981.0\n",
              " \n",
              " [7 rows x 22 columns],\n",
              "          date  positive  ...  positiveIncrease  totalTestResultsIncrease\n",
              " 35 2020-04-08   10147.0  ...            1199.0                    8029.0\n",
              " 36 2020-04-09   11095.0  ...             948.0                   11438.0\n",
              " 37 2020-04-10   12762.0  ...            1667.0                   12875.0\n",
              " 38 2020-04-11   13652.0  ...             890.0                    4815.0\n",
              " 39 2020-04-12   14658.0  ...            1006.0                    5594.0\n",
              " 40 2020-04-13   15151.0  ...             493.0                   10516.0\n",
              " 41 2020-04-14   15969.0  ...             818.0                   14696.0\n",
              " \n",
              " [7 rows x 22 columns],\n",
              "          date  positive  ...  positiveIncrease  totalTestResultsIncrease\n",
              " 42 2020-04-15   16899.0  ...             930.0                    6223.0\n",
              " 43 2020-04-16   17939.0  ...            1040.0                    7281.0\n",
              " 44 2020-04-17   18968.0  ...            1029.0                   12083.0\n",
              " 45 2020-04-18   19971.0  ...            1003.0                    7828.0\n",
              " 46 2020-04-19   20721.0  ...             750.0                    7490.0\n",
              " 47 2020-04-20   21303.0  ...             582.0                    8094.0\n",
              " 48 2020-04-21   22167.0  ...             864.0                   16718.0\n",
              " \n",
              " [7 rows x 22 columns],\n",
              "          date  positive  ...  positiveIncrease  totalTestResultsIncrease\n",
              " 49 2020-04-22   23141.0  ...             974.0                   13506.0\n",
              " 50 2020-04-23   24154.0  ...            1013.0                    8650.0\n",
              " 51 2020-04-24   25185.0  ...            1031.0                   22800.0\n",
              " 52 2020-04-25   26294.0  ...            1109.0                   25216.0\n",
              " 53 2020-04-26   27291.0  ...             997.0                   15430.0\n",
              " 54 2020-04-27   28023.0  ...             732.0                   17376.0\n",
              " 55 2020-04-28   28994.0  ...             971.0                   12055.0\n",
              " \n",
              " [7 rows x 22 columns],\n",
              "          date  positive  ...  positiveIncrease  totalTestResultsIncrease\n",
              " 56 2020-04-29   30028.0  ...            1034.0                   17348.0\n",
              " \n",
              " [1 rows x 22 columns]]"
            ]
          },
          "metadata": {
            "tags": []
          },
          "execution_count": 102
        }
      ]
    },
    {
      "cell_type": "code",
      "metadata": {
        "id": "jrVttWPCjh2y",
        "colab_type": "code",
        "outputId": "e2114f55-84b2-41f9-c167-f31f30fa2383",
        "colab": {
          "base_uri": "https://localhost:8080/",
          "height": 603
        }
      },
      "source": [
        "#After solving, we found the distribution to be gamma distribution with alpha = n*mean(X) and beta = n+(1/beta_prior)\n",
        "lambda_m=week[len(week)-1].death.mean()\n",
        "beta_pri=lambda_m\n",
        "\n",
        "temp = []\n",
        "plt.figure(figsize=(14,8))\n",
        "for i in range(5):\n",
        "    temp.extend(week[len(week)-1-i].death)\n",
        "    max_temp = max(temp)\n",
        "    min_temp = min(temp)\n",
        "    mean_ = np.mean(temp)\n",
        "    range_ = np.linspace(min_temp, max_temp, 100)\n",
        "    alpha = (len(temp)*mean_)+1\n",
        "    beta = len(temp)+(1/beta_pri)\n",
        "    g_pdf = gamma.pdf(range_, a = alpha, scale = float(1)/beta)\n",
        "    print(\"MAP \" + str(i+1)+ \" = \" + str(range_[np.argmax(g_pdf)]))\n",
        "    plt.plot(range_, g_pdf, label=\"Iteration\"+str(i+1))\n",
        "\n",
        "\n",
        "plt.legend()\n",
        "plt.xlabel(\"x\")\n",
        "plt.ylabel(\"pdf - Pr[X=x]\")\n",
        "plt.title('Posterior distributions of Lambda after each iteration')\n",
        "plt.show()"
      ],
      "execution_count": 0,
      "outputs": [
        {
          "output_type": "stream",
          "text": [
            "MAP 1 = 842.0\n",
            "MAP 2 = 719.0909090909091\n",
            "MAP 3 = 614.3030303030303\n",
            "MAP 4 = 506.1212121212121\n",
            "MAP 5 = 409.22222222222223\n"
          ],
          "name": "stdout"
        },
        {
          "output_type": "display_data",
          "data": {
            "image/png": "[encoded data removed]",
            "text/plain": [
              "<Figure size 1008x576 with 1 Axes>"
            ]
          },
          "metadata": {
            "tags": []
          }
        }
      ]
    },
    {
      "cell_type": "markdown",
      "metadata": {
        "id": "kbcGAgU8ocoA",
        "colab_type": "text"
      },
      "source": [
        "I have kept iteration values 5 as april data is getting divided into 5 parts and there is only one day (April29th) in the last part and to get the inference for the ntire month of April we kept the iteration values as 5. Also,I started my calculations from the last week to the first week of April. "
      ]
    },
    {
      "cell_type": "markdown",
      "metadata": {
        "id": "3pNkSByHkMU2",
        "colab_type": "text"
      },
      "source": [
        "#Creative Inference"
      ]
    },
    {
      "cell_type": "markdown",
      "metadata": {
        "id": "lxuMqB3_kO-i",
        "colab_type": "text"
      },
      "source": [
        "#Creative Inference 1\n",
        "\n",
        "**For the new creative inference - We choose the chi square test to show whether or not the X dataset and the COVID dataset had an impact on each other**\n",
        "\n",
        "The hypothesis we present is listed down below.\n",
        "\n",
        "**Before actually beginning with our chi-square test, we'd like to see the trends in the data by plotting a few graphs**"
      ]
    },
    {
      "cell_type": "code",
      "metadata": {
        "id": "bQpvJkE4kG4A",
        "colab_type": "code",
        "colab": {}
      },
      "source": [
        "tx_nm_stock =  pd.read_csv(\"tx_nm_stock.csv\")\n",
        "trip_stock_data = pd.read_csv(\"TRIP.csv\")"
      ],
      "execution_count": 0,
      "outputs": []
    },
    {
      "cell_type": "code",
      "metadata": {
        "id": "hp5pDPtkkomN",
        "colab_type": "code",
        "outputId": "9b945124-9fcd-4c0e-ce9a-7c8daefae332",
        "colab": {
          "base_uri": "https://localhost:8080/",
          "height": 594
        }
      },
      "source": [
        "#We'd just like to see if there is any relation between the stock price and the spike in positive cases when plotted on a graph\n",
        "\n",
        "fig, axes = plt.subplots(nrows=2, ncols=2, figsize=(15, 10))\n",
        "fig.tight_layout(pad=10.0)\n",
        "sns.set()\n",
        "axes[0][0].set_yscale('log')\n",
        "axes[1][0].set_yscale('log')\n",
        "axes[0][1].set_yscale('log')\n",
        "axes[1][1].set_yscale('log')\n",
        "axes[0][0].plot(tx_nm_stock['date'],tx_nm_stock[\"positive\"],'-r', label='Positive-cases');\n",
        "axes[0][0].tick_params(axis='x', labelrotation=75);\n",
        "axes[0][0].plot(tx_nm_stock[\"date\"],tx_nm_stock[\"Adj Close\"],'-g',label='Adjusted closing price of stock TRIP');\n",
        "axes[0][0].set(title = \"Spike in positive cases V/S adjusted closing price of stock 'TRIP'\",xlabel = \"Date\",ylabel = \"Count\");\n",
        "axes[0][0].legend(loc='best', shadow=True , prop={'size': 8}, bbox_to_anchor = (0.4,0.4), fancybox=True, framealpha=1, borderpad=1);\n",
        "\n",
        "axes[0][1].plot(tx_nm_stock['date'],tx_nm_stock[\"negative\"],'-b', label='Negative-cases');\n",
        "axes[0][1].tick_params(axis='x', labelrotation=75);\n",
        "axes[0][1].plot(tx_nm_stock[\"date\"],tx_nm_stock[\"Adj Close\"],'-g',label='Adjusted closing price of stock TRIP');\n",
        "axes[0][1].set(title = \"Drop in negative cases V/S adjusted closing price of stock 'TRIP'\",xlabel = \"Date\",ylabel = \"Count\");\n",
        "axes[0][1].legend(loc='best', shadow=True, prop={'size': 8}, bbox_to_anchor = (0.3,0.4), fancybox=True, framealpha=1, borderpad=1);\n",
        "\n",
        "axes[1][0].plot(tx_nm_stock['date'],tx_nm_stock[\"positive\"],'-r', label='Positive-cases');\n",
        "axes[1][0].tick_params(axis='x', labelrotation=75);\n",
        "axes[1][0].plot(tx_nm_stock[\"date\"],tx_nm_stock[\"Volume\"],'-y',label='Stock Volatility of TRIP');\n",
        "axes[1][0].set(title = \"Spike in positive cases V/S Stock Volatility of 'TRIP'\",xlabel = \"Date\",ylabel = \"Count\");\n",
        "axes[1][0].legend(loc='lower right', shadow=True, fancybox=True, framealpha=1, borderpad=1);\n",
        "\n",
        "axes[1][1].plot(tx_nm_stock['date'],tx_nm_stock[\"negative\"],'-b', label='Negative-cases');\n",
        "axes[1][1].tick_params(axis='x', labelrotation=75);\n",
        "axes[1][1].plot(tx_nm_stock[\"date\"],tx_nm_stock[\"Volume\"],'-y',label='Stock Volatility of TRIP');\n",
        "axes[1][1].set(title = \"Drop in negative cases V/S Stock Volatility of 'TRIP'\",xlabel = \"Date\",ylabel = \"Count\");\n",
        "axes[1][1].legend(loc='lower right', shadow=True, fancybox=True, framealpha=1, borderpad=1);"
      ],
      "execution_count": 0,
      "outputs": [
        {
          "output_type": "display_data",
          "data": {
            "image/png": "[encoded data removed]",
            "text/plain": [
              "<Figure size 1080x720 with 4 Axes>"
            ]
          },
          "metadata": {
            "tags": []
          }
        }
      ]
    },
    {
      "cell_type": "code",
      "metadata": {
        "id": "HE703sZck36V",
        "colab_type": "code",
        "colab": {}
      },
      "source": [
        "#Basic functions we need ahead in our program of chi square calculation\n",
        "\n",
        "#Returns the value rounded to 2 decimals\n",
        "def get_round(val):\n",
        "  return round(val, 2)\n",
        "\n",
        "#Returns percentage difference\n",
        "def get_percentage_difference(col):\n",
        "  return col.pct_change(periods = 1)\n",
        "\n",
        "#Returns difference between expected and observed\n",
        "def get_difference_exp_obs(obs, exp):\n",
        "  return((obs - exp) ** 2)/exp\n"
      ],
      "execution_count": 0,
      "outputs": []
    },
    {
      "cell_type": "markdown",
      "metadata": {
        "id": "v0quZjl3plkj",
        "colab_type": "text"
      },
      "source": [
        "### Hypothesis\n",
        "Tripadvisor is an American online travel company that offers online hotel reservations as well as bookings for transportation, lodging, travel experiences, and restaurants.\n",
        "With chi square test, we aim to show whether or not the increase in number of people booking tickets and travelling to/fro(can be identified by adjusted closing price of a stock) is related to the spike in number of positive cases of COVID.\n",
        "\n",
        "**Null Hypothesis:**\n",
        "\n",
        "H0: The change in the adjusted closing price of stock \"TRIP\" is independent of the rise in positive cases.\n",
        "\n",
        "**Alternate Hypothesis:**\n",
        "\n",
        "H1: The adjusted closing price of stock \"TRIP\" is related to the number of positive cases of COVID.\n"
      ]
    },
    {
      "cell_type": "code",
      "metadata": {
        "id": "qw6zOtMFpif4",
        "colab_type": "code",
        "colab": {}
      },
      "source": [
        "#We look at the independence/dependence between adj close price and the change in positive cases\n",
        "\n",
        "adj_close_percent_diff = pd.Series(get_percentage_difference(tx_nm_stock['Adj Close']))\n",
        "cases_percent_diff = pd.Series(get_percentage_difference(tx_nm_stock['positive']))\n",
        "\n",
        "#print(adj_close_percent_diff)\n",
        "tx_nm_stock['adjusted_closeprice_percent_change'] = adj_close_percent_diff\n",
        "tx_nm_stock['positivecase_percent_change'] = cases_percent_diff\n",
        "\n",
        "#To remove the headers we assign the rows from row1 instead of 0 to the df\n",
        "tx_nm_stock = tx_nm_stock.iloc[1:]\n",
        "\n",
        "#Calculating difference between the percentage differences\n",
        "adjstockprice = pd.Series(get_percentage_difference(tx_nm_stock['adjusted_closeprice_percent_change']))\n",
        "cases = pd.Series(get_percentage_difference(tx_nm_stock['positivecase_percent_change']))\n",
        "\n",
        "tx_nm_stock['stockprice_slope'] = adjstockprice\n",
        "tx_nm_stock['cases_slope'] = cases\n",
        "\n",
        "#To remove the headers we assign the rows from row1 instead of 0 to the df\n",
        "tx_nm_stock = tx_nm_stock.iloc[1:]"
      ],
      "execution_count": 0,
      "outputs": []
    },
    {
      "cell_type": "code",
      "metadata": {
        "id": "2c3IRTespv5g",
        "colab_type": "code",
        "outputId": "38c7f8d2-735f-44ff-aecf-8e6a96ab738c",
        "colab": {
          "base_uri": "https://localhost:8080/",
          "height": 117
        }
      },
      "source": [
        "#Marking the confusion matrix - Positives and Negatives\n",
        "tx_nm_stock['Lpositive'] = np.where(tx_nm_stock['cases_slope'] >= 0, 'Positive', 'Negative')\n",
        "tx_nm_stock['Lstock'] = np.where(tx_nm_stock['stockprice_slope'] >= 0, 'Positive', 'Negative')\n",
        "tx_nm_stock.iloc[:,20:-1].head(1)"
      ],
      "execution_count": 0,
      "outputs": [
        {
          "output_type": "execute_result",
          "data": {
            "text/html": [
              "<div>\n",
              "<style scoped>\n",
              "    .dataframe tbody tr th:only-of-type {\n",
              "        vertical-align: middle;\n",
              "    }\n",
              "\n",
              "    .dataframe tbody tr th {\n",
              "        vertical-align: top;\n",
              "    }\n",
              "\n",
              "    .dataframe thead th {\n",
              "        text-align: right;\n",
              "    }\n",
              "</style>\n",
              "<table border=\"1\" class=\"dataframe\">\n",
              "  <thead>\n",
              "    <tr style=\"text-align: right;\">\n",
              "      <th></th>\n",
              "      <th>hospitalizedIncrease</th>\n",
              "      <th>negativeIncrease</th>\n",
              "      <th>positiveIncrease</th>\n",
              "      <th>totalTestResultsIncrease</th>\n",
              "      <th>state</th>\n",
              "      <th>Open</th>\n",
              "      <th>High</th>\n",
              "      <th>Low</th>\n",
              "      <th>Close</th>\n",
              "      <th>Adj Close</th>\n",
              "      <th>Volume</th>\n",
              "      <th>adjusted_closeprice_percent_change</th>\n",
              "      <th>positivecase_percent_change</th>\n",
              "      <th>stockprice_slope</th>\n",
              "      <th>cases_slope</th>\n",
              "      <th>Lpositive</th>\n",
              "    </tr>\n",
              "  </thead>\n",
              "  <tbody>\n",
              "    <tr>\n",
              "      <th>2</th>\n",
              "      <td>0.0</td>\n",
              "      <td>0.0</td>\n",
              "      <td>4.0</td>\n",
              "      <td>4.0</td>\n",
              "      <td>TX,NM</td>\n",
              "      <td>20.92</td>\n",
              "      <td>22.16</td>\n",
              "      <td>20.799999</td>\n",
              "      <td>22.0</td>\n",
              "      <td>22.0</td>\n",
              "      <td>5317300</td>\n",
              "      <td>0.01196</td>\n",
              "      <td>4.0</td>\n",
              "      <td>-1.134601</td>\n",
              "      <td>inf</td>\n",
              "      <td>Positive</td>\n",
              "    </tr>\n",
              "  </tbody>\n",
              "</table>\n",
              "</div>"
            ],
            "text/plain": [
              "   hospitalizedIncrease  negativeIncrease  ...  cases_slope  Lpositive\n",
              "2                   0.0               0.0  ...          inf   Positive\n",
              "\n",
              "[1 rows x 16 columns]"
            ]
          },
          "metadata": {
            "tags": []
          },
          "execution_count": 108
        }
      ]
    },
    {
      "cell_type": "markdown",
      "metadata": {
        "id": "GMeW9kZep6EB",
        "colab_type": "text"
      },
      "source": [
        "alpha = 0.05\n",
        "\n",
        "We will calculate degree of freedom as:\n",
        "\n",
        "degree_of_freedom = (2 - 1) * (2 - 1) = 1\n",
        "\n",
        "We reject when p-value < alpha for a given degree of freedom. (in our case its 1)\n",
        "\n",
        "Reference:-\n",
        "\n",
        "http://courses.atlas.illinois.edu/spring2016/STAT/STAT200/pchisq.html\n",
        "\n",
        "\n",
        "Therefore if our p-value comes out to be less than alpha, then we reject the null hypothesis.\n",
        "\n",
        "\n",
        "\n"
      ]
    },
    {
      "cell_type": "code",
      "metadata": {
        "id": "K51fl4d3p0vb",
        "colab_type": "code",
        "outputId": "d0b76c00-72f5-4139-a979-eaf04947e2ca",
        "colab": {
          "base_uri": "https://localhost:8080/",
          "height": 51
        }
      },
      "source": [
        "#Forming the table for True positives(TP), False Positives(FP) - Type1 error, True Negatives(TN), False Negatives(FN) - Type2error \n",
        "Q = pd.pivot_table(tx_nm_stock, index = ['Lpositive'], columns=['Lstock'], aggfunc=len, fill_value=0)\n",
        "Q = Q['Adj Close']\n",
        "Q\n",
        "\n",
        "true_positives = Q['Positive']['Positive']\n",
        "true_negatives = Q['Negative']['Negative']\n",
        "false_positives = Q['Positive']['Negative']\n",
        "false_negatives = Q['Negative']['Positive']\n",
        "\n",
        "#Calculating precision and recall\n",
        "precision = true_positives / (true_positives + false_positives)\n",
        "recall = true_positives / (true_positives + false_negatives)\n",
        "\n",
        "print(\"The precision is \",precision)\n",
        "print(\"The recall is \",recall)\n"
      ],
      "execution_count": 0,
      "outputs": [
        {
          "output_type": "stream",
          "text": [
            "The precision is  0.4166666666666667\n",
            "The recall is  0.29411764705882354\n"
          ],
          "name": "stdout"
        }
      ]
    },
    {
      "cell_type": "code",
      "metadata": {
        "id": "xAC1jxNzp74t",
        "colab_type": "code",
        "outputId": "e9f0b391-dee5-4350-e1d3-542d7c700817",
        "colab": {
          "base_uri": "https://localhost:8080/",
          "height": 249
        }
      },
      "source": [
        "#Visualizing the percentage of TP, TN, FP, FN\n",
        "labels = ['True Positive','True Negative','False Positive','False Negative']\n",
        "sizes = [true_positives, true_negatives, false_positives, false_negatives]\n",
        "colors = ['gold', 'yellowgreen', 'lightcoral', 'lightskyblue']\n",
        "plt.pie(sizes, labels = labels, colors = colors, autopct = '%1.1f%%', shadow = True, startangle = 140)\n",
        "plt.axis('equal')\n",
        "plt.show()\n"
      ],
      "execution_count": 0,
      "outputs": [
        {
          "output_type": "display_data",
          "data": {
            "image/png": "[encoded data removed]",
            "text/plain": [
              "<Figure size 432x288 with 1 Axes>"
            ]
          },
          "metadata": {
            "tags": []
          }
        }
      ]
    },
    {
      "cell_type": "code",
      "metadata": {
        "id": "Zp-VH04Xp9a1",
        "colab_type": "code",
        "outputId": "be1bbd23-1464-4711-bb90-e766c907ef32",
        "colab": {
          "base_uri": "https://localhost:8080/",
          "height": 187
        }
      },
      "source": [
        "#Now we get the no. of days where TP, TN, FP, FN are observed as per our conditions\n",
        "stats_table = tx_nm_stock.groupby(['Lpositive','Lstock'])['date'].count().reset_index()\n",
        "print(stats_table)\n",
        "stats_table.columns = ['Lpositive','Lstock','noOfDates']\n",
        "print(stats_table)"
      ],
      "execution_count": 0,
      "outputs": [
        {
          "output_type": "stream",
          "text": [
            "  Lpositive    Lstock  date\n",
            "0  Negative  Negative    11\n",
            "1  Negative  Positive     7\n",
            "2  Positive  Negative    12\n",
            "3  Positive  Positive     5\n",
            "  Lpositive    Lstock  noOfDates\n",
            "0  Negative  Negative         11\n",
            "1  Negative  Positive          7\n",
            "2  Positive  Negative         12\n",
            "3  Positive  Positive          5\n"
          ],
          "name": "stdout"
        }
      ]
    },
    {
      "cell_type": "code",
      "metadata": {
        "id": "h6RCoY8zp-js",
        "colab_type": "code",
        "colab": {}
      },
      "source": [
        "#To get total number of days of positive spike and negative drop we do below.\n",
        "\n",
        "#We need the total sum to get the expected values\n",
        "agg_count = stats_table['noOfDates'].sum()\n",
        "no_of_days = agg_count\n",
        "\n",
        "#Two variables in consideration\n",
        "v1 = 'Lpositive'\n",
        "v2 = 'Lstock'\n",
        "\n",
        "#Checking the conditions for TP, FP, TN, FN\n",
        "cond1 = (stats_table[v1] == 'Positive')\n",
        "cond2 = (stats_table[v2] == 'Positive')\n",
        "cond3 = (stats_table[v1] == 'Negative')\n",
        "cond4 = (stats_table[v2] == 'Negative')\n",
        "\n",
        "#Filtering on those conditions\n",
        "temp_pos_table1 = stats_table[cond1]\n",
        "temp_pos_table2 = stats_table[cond2]\n",
        "temp_neg_table1 = stats_table[cond3]\n",
        "temp_neg_table2 = stats_table[cond4]\n",
        "\n",
        "#Getting the ratios\n",
        "ratio_pos1 = temp_pos_table1.noOfDates.sum() / no_of_days\n",
        "ratio_pos2 = temp_pos_table2.noOfDates.sum() / no_of_days\n",
        "\n",
        "#Just rounding it off to nearest 2 decimals\n",
        "total_cases = get_round(ratio_pos1)\n",
        "total_stockprices = get_round(ratio_pos2)\n",
        "\n",
        "#The observed values for TP, TN, FP, FN\n",
        "obs_pos_pos = stats_table[cond1 & cond2].noOfDates.sum()\n",
        "obs_pos_neg = stats_table[cond1 & cond4].noOfDates.sum()\n",
        "obs_neg_pos = stats_table[cond3 & cond2].noOfDates.sum()\n",
        "obs_neg_neg = stats_table[cond3 & cond4].noOfDates.sum()\n",
        "\n",
        "#Alternate cases\n",
        "comp_tot_cases = 1 - total_cases\n",
        "comp_tot_stock = 1 - total_stockprices\n",
        "\n",
        "#Calculation of expected values\n",
        "exp_pos_pos = total_cases * total_stockprices * no_of_days\n",
        "exp_pos_neg = total_cases * comp_tot_stock * no_of_days\n",
        "exp_neg_pos = comp_tot_cases * total_stockprices * no_of_days\n",
        "exp_neg_neg = comp_tot_cases * comp_tot_stock * no_of_days\n",
        "\n"
      ],
      "execution_count": 0,
      "outputs": []
    },
    {
      "cell_type": "code",
      "metadata": {
        "id": "x6thxVuGqAB1",
        "colab_type": "code",
        "outputId": "022936c1-e719-4e61-ccbd-db0cddfa6a22",
        "colab": {
          "base_uri": "https://localhost:8080/",
          "height": 34
        }
      },
      "source": [
        "#Calculating the sum of (obs - exp) ^ 2 / exp\n",
        "term1 = get_difference_exp_obs(obs_pos_pos, exp_pos_pos)\n",
        "term2 = get_difference_exp_obs(obs_pos_neg, exp_pos_neg)\n",
        "term3 = get_difference_exp_obs(obs_neg_pos, exp_neg_pos)\n",
        "term4 = get_difference_exp_obs(obs_neg_neg, exp_neg_neg)\n",
        "\n",
        "results = term1 + term2 + term3 + term4\n",
        "results"
      ],
      "execution_count": 0,
      "outputs": [
        {
          "output_type": "execute_result",
          "data": {
            "text/plain": [
              "0.3539939021190341"
            ]
          },
          "metadata": {
            "tags": []
          },
          "execution_count": 113
        }
      ]
    },
    {
      "cell_type": "markdown",
      "metadata": {
        "id": "_ud-axWwqDCH",
        "colab_type": "text"
      },
      "source": [
        "From http://courses.atlas.illinois.edu/spring2016/STAT/STAT200/pchisq.html\n",
        "\n",
        "From above link, we get p-value as 0.5519 for df = 1 and chi sq value of 0.3539939021190341\n"
      ]
    },
    {
      "cell_type": "code",
      "metadata": {
        "id": "cGXDgCdpGrfC",
        "colab_type": "code",
        "outputId": "61037be1-a800-40fc-c2dc-c205f10360cd",
        "colab": {
          "base_uri": "https://localhost:8080/",
          "height": 88
        }
      },
      "source": [
        "p_value = 0.5519 #after looking up on the link with chi sq value as 0.09676343009676323 and df = 1\n",
        "alpha = 0.05 #threshold\n",
        "print(\"The p-value is\",p_value)\n",
        "if(p_value < alpha):\n",
        "  print(\"The result is significant at alpha and we reject the null hypothesis.\")\n",
        "  print(\"Thus we can say that the value of stock 'TRIP' is related to the number of positive cases of COVID.\")\n",
        "else:\n",
        "  print(\"The result is not significant at alpha and we fail to reject the null hypothesis.\")\n",
        "  print(\"Thus we can say that the change in the adjusted closing price of stock 'TRIP' is independent of the rise in positive cases.\")"
      ],
      "execution_count": 0,
      "outputs": [
        {
          "output_type": "stream",
          "text": [
            "The p-value is 0.5519\n",
            "The result is not significant at alpha and we fail to reject the null hypothesis.\n",
            "Thus we can say that the change in the adjusted closing price of stock 'TRIP' is independent of the rise in positive cases.\n"
          ],
          "name": "stdout"
        }
      ]
    },
    {
      "cell_type": "markdown",
      "metadata": {
        "id": "IFXnvGV7qIoB",
        "colab_type": "text"
      },
      "source": [
        "**Conclusion:**\n",
        "\n",
        "The above chi-square test shows that the change in value of the stock's closing price is independent of the rise in positive cases; now this could be because - maybe people who were tested positive in the states of Texas and new Mexico did not use TripAdvisor much to book flights/hotels but used some other means to travel. This result is plainly based on the data at hand. \n",
        "\n",
        "The graphs plotted above do show the independent nature of both the factors considered."
      ]
    },
    {
      "cell_type": "markdown",
      "metadata": {
        "id": "dLEJQPPZqMjU",
        "colab_type": "text"
      },
      "source": [
        "#Creative Inference 2\n",
        "\n",
        "###Hypothesis\n",
        "H0: The onset of coronavirus has caused a distruption in the US China trade relations.\n",
        "\n",
        "H1: The US China trade relations are statistically unaffected.\n",
        "\n",
        "\n",
        "We can measure this by calculating the difference in the projected values for March 2020 for import and export. We specifically chose March because the US was affected most by the virus in late february and early-mid march(As shown in the Covid Dataset). "
      ]
    },
    {
      "cell_type": "code",
      "metadata": {
        "id": "o_P96y-9qGNc",
        "colab_type": "code",
        "colab": {}
      },
      "source": [
        "x_df = pd.read_excel(\"USCensusDatasetByCountry.xlsx\")\n",
        "china_census = x_df[x_df[\"CTYNAME\"] == \"China\"]"
      ],
      "execution_count": 0,
      "outputs": []
    },
    {
      "cell_type": "code",
      "metadata": {
        "id": "l-Ri1K_IqqEK",
        "colab_type": "code",
        "outputId": "209225a5-853b-4f4f-f576-3b838c0613e3",
        "colab": {
          "base_uri": "https://localhost:8080/",
          "height": 170
        }
      },
      "source": [
        "#Calculate the differences in predictions for the year 2020\n",
        "print(\"AR 3:\", AR(3, china_census[\"IMAR\"].to_numpy(), 1))\n",
        "print(\"AR 5:\", AR(5, china_census[\"IMAR\"].to_numpy(), 1))\n",
        "print(\"EWMA:\", EWMA(china_census[\"IMAR\"].to_numpy(), 0.5, 1))"
      ],
      "execution_count": 0,
      "outputs": [
        {
          "output_type": "stream",
          "text": [
            "Real Data [19805.426244]\n",
            "Predicted Values [36271.744131346575]\n",
            "AR 3: {'MAPE %': 83.14043678981665, 'MSE': 271139624.7671498}\n",
            "Real Data [19805.426244]\n",
            "Predicted Values [37289.11283075301]\n",
            "AR 5: {'MAPE %': 88.2772547854134, 'MSE': 305679296.66380715}\n",
            "Real Data [19805.426244]\n",
            "Predicted Values [26659.79947013768]\n",
            "EWMA: {'MAPE %': 34.6085620258448, 'MSE': 46982432.3231931}\n"
          ],
          "name": "stdout"
        }
      ]
    },
    {
      "cell_type": "code",
      "metadata": {
        "id": "FX5iY_ldqrsK",
        "colab_type": "code",
        "outputId": "b20ce54e-7320-49e0-e6b7-8d3349744def",
        "colab": {
          "base_uri": "https://localhost:8080/",
          "height": 170
        }
      },
      "source": [
        "#Exports March\n",
        "print(\"AR 3:\", AR(3, china_census[\"EMAR\"].to_numpy(), 1))\n",
        "print(\"AR 5:\", AR(5, china_census[\"EMAR\"].to_numpy(), 1))\n",
        "print(\"EWMA:\", EWMA(china_census[\"EMAR\"].to_numpy(), 0.5, 1))"
      ],
      "execution_count": 0,
      "outputs": [
        {
          "output_type": "stream",
          "text": [
            "Real Data [7971.889801]\n",
            "Predicted Values [10485.732904507051]\n",
            "AR 3: {'MAPE %': 31.533841614214392, 'MSE': 6319407.149049961}\n",
            "Real Data [7971.889801]\n",
            "Predicted Values [9584.596179858958]\n",
            "AR 5: {'MAPE %': 20.22991309609747, 'MSE': 2600821.8644123715}\n",
            "Real Data [7971.889801]\n",
            "Predicted Values [9372.506953776516]\n",
            "EWMA: {'MAPE %': 17.56944949992687, 'MSE': 1961728.408651793}\n"
          ],
          "name": "stdout"
        }
      ]
    },
    {
      "cell_type": "markdown",
      "metadata": {
        "id": "wjC9A6WGqtfX",
        "colab_type": "text"
      },
      "source": [
        "###Conclusion\n",
        "While the imports were infact affected by the virus significantly the exports stayed very close to the predicted values. But since most of the United States’ largest exports to China consist of crops or raw materials according to https://www.chinabusinessreview.com/what-america-exports-to-china/ its safe to say that the chances of the exports going down were less to begin with."
      ]
    },
    {
      "cell_type": "markdown",
      "metadata": {
        "id": "dWjjJtRPq_8U",
        "colab_type": "text"
      },
      "source": [
        "## Creative Inference 3- Regression<br>\n",
        "\n",
        "I wanted to understand the correlation between various columns of the covid and X dataset and so I combined them into one and plotted a heatmap to visualize the correlation values and decide the columns for my inference.<br>\n",
        "\n"
      ]
    },
    {
      "cell_type": "code",
      "metadata": {
        "id": "2XVk8ksMrCGp",
        "colab_type": "code",
        "outputId": "918e9905-e44d-4718-c2db-c055d8ac9662",
        "colab": {
          "base_uri": "https://localhost:8080/",
          "height": 1000
        }
      },
      "source": [
        "#Loading Covid data \n",
        "covid=pd.read_csv(\"daily.csv\")\n",
        "states = ['TX','NM']\n",
        "covid = full_data[full_data.state.isin(states)] \n",
        "covid=covid.groupby(['date']).sum().reset_index()\n",
        "covid = covid.fillna(\"0\")\n",
        "covid = covid.fillna(texas_newmexico_data.mean())\n",
        "covid['death'] = covid['death'].astype(int)\n",
        "covid.astype(int)"
      ],
      "execution_count": 0,
      "outputs": [
        {
          "output_type": "execute_result",
          "data": {
            "text/html": [
              "<div>\n",
              "<style scoped>\n",
              "    .dataframe tbody tr th:only-of-type {\n",
              "        vertical-align: middle;\n",
              "    }\n",
              "\n",
              "    .dataframe tbody tr th {\n",
              "        vertical-align: top;\n",
              "    }\n",
              "\n",
              "    .dataframe thead th {\n",
              "        text-align: right;\n",
              "    }\n",
              "</style>\n",
              "<table border=\"1\" class=\"dataframe\">\n",
              "  <thead>\n",
              "    <tr style=\"text-align: right;\">\n",
              "      <th></th>\n",
              "      <th>date</th>\n",
              "      <th>positive</th>\n",
              "      <th>negative</th>\n",
              "      <th>pending</th>\n",
              "      <th>hospitalizedCurrently</th>\n",
              "      <th>hospitalizedCumulative</th>\n",
              "      <th>inIcuCurrently</th>\n",
              "      <th>inIcuCumulative</th>\n",
              "      <th>onVentilatorCurrently</th>\n",
              "      <th>onVentilatorCumulative</th>\n",
              "      <th>recovered</th>\n",
              "      <th>death</th>\n",
              "      <th>hospitalized</th>\n",
              "      <th>total</th>\n",
              "      <th>totalTestResults</th>\n",
              "      <th>posNeg</th>\n",
              "      <th>fips</th>\n",
              "      <th>deathIncrease</th>\n",
              "      <th>hospitalizedIncrease</th>\n",
              "      <th>negativeIncrease</th>\n",
              "      <th>positiveIncrease</th>\n",
              "      <th>totalTestResultsIncrease</th>\n",
              "    </tr>\n",
              "  </thead>\n",
              "  <tbody>\n",
              "    <tr>\n",
              "      <th>0</th>\n",
              "      <td>20200304</td>\n",
              "      <td>1</td>\n",
              "      <td>0</td>\n",
              "      <td>0</td>\n",
              "      <td>0</td>\n",
              "      <td>0</td>\n",
              "      <td>0</td>\n",
              "      <td>0</td>\n",
              "      <td>0</td>\n",
              "      <td>0</td>\n",
              "      <td>0</td>\n",
              "      <td>0</td>\n",
              "      <td>0</td>\n",
              "      <td>1</td>\n",
              "      <td>1</td>\n",
              "      <td>1</td>\n",
              "      <td>48</td>\n",
              "      <td>0</td>\n",
              "      <td>0</td>\n",
              "      <td>0</td>\n",
              "      <td>0</td>\n",
              "      <td>0</td>\n",
              "    </tr>\n",
              "    <tr>\n",
              "      <th>1</th>\n",
              "      <td>20200305</td>\n",
              "      <td>1</td>\n",
              "      <td>0</td>\n",
              "      <td>0</td>\n",
              "      <td>0</td>\n",
              "      <td>0</td>\n",
              "      <td>0</td>\n",
              "      <td>0</td>\n",
              "      <td>0</td>\n",
              "      <td>0</td>\n",
              "      <td>0</td>\n",
              "      <td>0</td>\n",
              "      <td>0</td>\n",
              "      <td>1</td>\n",
              "      <td>1</td>\n",
              "      <td>1</td>\n",
              "      <td>48</td>\n",
              "      <td>0</td>\n",
              "      <td>0</td>\n",
              "      <td>0</td>\n",
              "      <td>0</td>\n",
              "      <td>0</td>\n",
              "    </tr>\n",
              "    <tr>\n",
              "      <th>2</th>\n",
              "      <td>20200306</td>\n",
              "      <td>5</td>\n",
              "      <td>16</td>\n",
              "      <td>0</td>\n",
              "      <td>0</td>\n",
              "      <td>0</td>\n",
              "      <td>0</td>\n",
              "      <td>0</td>\n",
              "      <td>0</td>\n",
              "      <td>0</td>\n",
              "      <td>0</td>\n",
              "      <td>0</td>\n",
              "      <td>0</td>\n",
              "      <td>21</td>\n",
              "      <td>21</td>\n",
              "      <td>21</td>\n",
              "      <td>83</td>\n",
              "      <td>0</td>\n",
              "      <td>0</td>\n",
              "      <td>0</td>\n",
              "      <td>4</td>\n",
              "      <td>4</td>\n",
              "    </tr>\n",
              "    <tr>\n",
              "      <th>3</th>\n",
              "      <td>20200307</td>\n",
              "      <td>8</td>\n",
              "      <td>48</td>\n",
              "      <td>0</td>\n",
              "      <td>0</td>\n",
              "      <td>0</td>\n",
              "      <td>0</td>\n",
              "      <td>0</td>\n",
              "      <td>0</td>\n",
              "      <td>0</td>\n",
              "      <td>0</td>\n",
              "      <td>0</td>\n",
              "      <td>0</td>\n",
              "      <td>56</td>\n",
              "      <td>56</td>\n",
              "      <td>56</td>\n",
              "      <td>83</td>\n",
              "      <td>0</td>\n",
              "      <td>0</td>\n",
              "      <td>32</td>\n",
              "      <td>3</td>\n",
              "      <td>35</td>\n",
              "    </tr>\n",
              "    <tr>\n",
              "      <th>4</th>\n",
              "      <td>20200308</td>\n",
              "      <td>8</td>\n",
              "      <td>48</td>\n",
              "      <td>0</td>\n",
              "      <td>0</td>\n",
              "      <td>0</td>\n",
              "      <td>0</td>\n",
              "      <td>0</td>\n",
              "      <td>0</td>\n",
              "      <td>0</td>\n",
              "      <td>0</td>\n",
              "      <td>0</td>\n",
              "      <td>0</td>\n",
              "      <td>56</td>\n",
              "      <td>56</td>\n",
              "      <td>56</td>\n",
              "      <td>83</td>\n",
              "      <td>0</td>\n",
              "      <td>0</td>\n",
              "      <td>0</td>\n",
              "      <td>0</td>\n",
              "      <td>0</td>\n",
              "    </tr>\n",
              "    <tr>\n",
              "      <th>5</th>\n",
              "      <td>20200309</td>\n",
              "      <td>12</td>\n",
              "      <td>57</td>\n",
              "      <td>0</td>\n",
              "      <td>0</td>\n",
              "      <td>0</td>\n",
              "      <td>0</td>\n",
              "      <td>0</td>\n",
              "      <td>0</td>\n",
              "      <td>0</td>\n",
              "      <td>0</td>\n",
              "      <td>0</td>\n",
              "      <td>0</td>\n",
              "      <td>69</td>\n",
              "      <td>69</td>\n",
              "      <td>69</td>\n",
              "      <td>83</td>\n",
              "      <td>0</td>\n",
              "      <td>0</td>\n",
              "      <td>9</td>\n",
              "      <td>4</td>\n",
              "      <td>13</td>\n",
              "    </tr>\n",
              "    <tr>\n",
              "      <th>6</th>\n",
              "      <td>20200310</td>\n",
              "      <td>13</td>\n",
              "      <td>69</td>\n",
              "      <td>0</td>\n",
              "      <td>0</td>\n",
              "      <td>0</td>\n",
              "      <td>0</td>\n",
              "      <td>0</td>\n",
              "      <td>0</td>\n",
              "      <td>0</td>\n",
              "      <td>0</td>\n",
              "      <td>0</td>\n",
              "      <td>0</td>\n",
              "      <td>82</td>\n",
              "      <td>82</td>\n",
              "      <td>82</td>\n",
              "      <td>83</td>\n",
              "      <td>0</td>\n",
              "      <td>0</td>\n",
              "      <td>12</td>\n",
              "      <td>1</td>\n",
              "      <td>13</td>\n",
              "    </tr>\n",
              "    <tr>\n",
              "      <th>7</th>\n",
              "      <td>20200311</td>\n",
              "      <td>24</td>\n",
              "      <td>87</td>\n",
              "      <td>0</td>\n",
              "      <td>0</td>\n",
              "      <td>0</td>\n",
              "      <td>0</td>\n",
              "      <td>0</td>\n",
              "      <td>0</td>\n",
              "      <td>0</td>\n",
              "      <td>0</td>\n",
              "      <td>0</td>\n",
              "      <td>0</td>\n",
              "      <td>111</td>\n",
              "      <td>111</td>\n",
              "      <td>111</td>\n",
              "      <td>83</td>\n",
              "      <td>0</td>\n",
              "      <td>0</td>\n",
              "      <td>18</td>\n",
              "      <td>11</td>\n",
              "      <td>29</td>\n",
              "    </tr>\n",
              "    <tr>\n",
              "      <th>8</th>\n",
              "      <td>20200312</td>\n",
              "      <td>28</td>\n",
              "      <td>155</td>\n",
              "      <td>0</td>\n",
              "      <td>0</td>\n",
              "      <td>0</td>\n",
              "      <td>0</td>\n",
              "      <td>0</td>\n",
              "      <td>0</td>\n",
              "      <td>0</td>\n",
              "      <td>0</td>\n",
              "      <td>0</td>\n",
              "      <td>0</td>\n",
              "      <td>183</td>\n",
              "      <td>183</td>\n",
              "      <td>183</td>\n",
              "      <td>83</td>\n",
              "      <td>0</td>\n",
              "      <td>0</td>\n",
              "      <td>68</td>\n",
              "      <td>4</td>\n",
              "      <td>72</td>\n",
              "    </tr>\n",
              "    <tr>\n",
              "      <th>9</th>\n",
              "      <td>20200313</td>\n",
              "      <td>49</td>\n",
              "      <td>190</td>\n",
              "      <td>0</td>\n",
              "      <td>0</td>\n",
              "      <td>0</td>\n",
              "      <td>0</td>\n",
              "      <td>0</td>\n",
              "      <td>0</td>\n",
              "      <td>0</td>\n",
              "      <td>0</td>\n",
              "      <td>0</td>\n",
              "      <td>0</td>\n",
              "      <td>239</td>\n",
              "      <td>239</td>\n",
              "      <td>239</td>\n",
              "      <td>83</td>\n",
              "      <td>0</td>\n",
              "      <td>0</td>\n",
              "      <td>35</td>\n",
              "      <td>21</td>\n",
              "      <td>56</td>\n",
              "    </tr>\n",
              "    <tr>\n",
              "      <th>10</th>\n",
              "      <td>20200314</td>\n",
              "      <td>61</td>\n",
              "      <td>237</td>\n",
              "      <td>0</td>\n",
              "      <td>0</td>\n",
              "      <td>0</td>\n",
              "      <td>0</td>\n",
              "      <td>0</td>\n",
              "      <td>0</td>\n",
              "      <td>0</td>\n",
              "      <td>0</td>\n",
              "      <td>0</td>\n",
              "      <td>0</td>\n",
              "      <td>298</td>\n",
              "      <td>298</td>\n",
              "      <td>298</td>\n",
              "      <td>83</td>\n",
              "      <td>0</td>\n",
              "      <td>0</td>\n",
              "      <td>47</td>\n",
              "      <td>12</td>\n",
              "      <td>59</td>\n",
              "    </tr>\n",
              "    <tr>\n",
              "      <th>11</th>\n",
              "      <td>20200315</td>\n",
              "      <td>69</td>\n",
              "      <td>482</td>\n",
              "      <td>0</td>\n",
              "      <td>0</td>\n",
              "      <td>0</td>\n",
              "      <td>0</td>\n",
              "      <td>0</td>\n",
              "      <td>0</td>\n",
              "      <td>0</td>\n",
              "      <td>0</td>\n",
              "      <td>0</td>\n",
              "      <td>0</td>\n",
              "      <td>551</td>\n",
              "      <td>551</td>\n",
              "      <td>551</td>\n",
              "      <td>83</td>\n",
              "      <td>0</td>\n",
              "      <td>0</td>\n",
              "      <td>245</td>\n",
              "      <td>8</td>\n",
              "      <td>253</td>\n",
              "    </tr>\n",
              "    <tr>\n",
              "      <th>12</th>\n",
              "      <td>20200316</td>\n",
              "      <td>74</td>\n",
              "      <td>566</td>\n",
              "      <td>0</td>\n",
              "      <td>0</td>\n",
              "      <td>0</td>\n",
              "      <td>0</td>\n",
              "      <td>0</td>\n",
              "      <td>0</td>\n",
              "      <td>0</td>\n",
              "      <td>0</td>\n",
              "      <td>0</td>\n",
              "      <td>0</td>\n",
              "      <td>640</td>\n",
              "      <td>640</td>\n",
              "      <td>640</td>\n",
              "      <td>83</td>\n",
              "      <td>0</td>\n",
              "      <td>0</td>\n",
              "      <td>84</td>\n",
              "      <td>5</td>\n",
              "      <td>89</td>\n",
              "    </tr>\n",
              "    <tr>\n",
              "      <th>13</th>\n",
              "      <td>20200317</td>\n",
              "      <td>87</td>\n",
              "      <td>2453</td>\n",
              "      <td>0</td>\n",
              "      <td>0</td>\n",
              "      <td>0</td>\n",
              "      <td>0</td>\n",
              "      <td>0</td>\n",
              "      <td>0</td>\n",
              "      <td>0</td>\n",
              "      <td>0</td>\n",
              "      <td>1</td>\n",
              "      <td>0</td>\n",
              "      <td>2540</td>\n",
              "      <td>2540</td>\n",
              "      <td>2540</td>\n",
              "      <td>83</td>\n",
              "      <td>1</td>\n",
              "      <td>0</td>\n",
              "      <td>1887</td>\n",
              "      <td>13</td>\n",
              "      <td>1900</td>\n",
              "    </tr>\n",
              "    <tr>\n",
              "      <th>14</th>\n",
              "      <td>20200318</td>\n",
              "      <td>111</td>\n",
              "      <td>4150</td>\n",
              "      <td>0</td>\n",
              "      <td>0</td>\n",
              "      <td>0</td>\n",
              "      <td>0</td>\n",
              "      <td>0</td>\n",
              "      <td>0</td>\n",
              "      <td>0</td>\n",
              "      <td>0</td>\n",
              "      <td>2</td>\n",
              "      <td>0</td>\n",
              "      <td>4261</td>\n",
              "      <td>4261</td>\n",
              "      <td>4261</td>\n",
              "      <td>83</td>\n",
              "      <td>1</td>\n",
              "      <td>0</td>\n",
              "      <td>1697</td>\n",
              "      <td>24</td>\n",
              "      <td>1721</td>\n",
              "    </tr>\n",
              "    <tr>\n",
              "      <th>15</th>\n",
              "      <td>20200319</td>\n",
              "      <td>178</td>\n",
              "      <td>4974</td>\n",
              "      <td>0</td>\n",
              "      <td>0</td>\n",
              "      <td>0</td>\n",
              "      <td>0</td>\n",
              "      <td>0</td>\n",
              "      <td>0</td>\n",
              "      <td>0</td>\n",
              "      <td>0</td>\n",
              "      <td>3</td>\n",
              "      <td>0</td>\n",
              "      <td>5152</td>\n",
              "      <td>5152</td>\n",
              "      <td>5152</td>\n",
              "      <td>83</td>\n",
              "      <td>1</td>\n",
              "      <td>0</td>\n",
              "      <td>824</td>\n",
              "      <td>67</td>\n",
              "      <td>891</td>\n",
              "    </tr>\n",
              "    <tr>\n",
              "      <th>16</th>\n",
              "      <td>20200320</td>\n",
              "      <td>237</td>\n",
              "      <td>8854</td>\n",
              "      <td>0</td>\n",
              "      <td>0</td>\n",
              "      <td>0</td>\n",
              "      <td>0</td>\n",
              "      <td>0</td>\n",
              "      <td>0</td>\n",
              "      <td>0</td>\n",
              "      <td>0</td>\n",
              "      <td>5</td>\n",
              "      <td>0</td>\n",
              "      <td>9091</td>\n",
              "      <td>9091</td>\n",
              "      <td>9091</td>\n",
              "      <td>83</td>\n",
              "      <td>2</td>\n",
              "      <td>0</td>\n",
              "      <td>3880</td>\n",
              "      <td>59</td>\n",
              "      <td>3939</td>\n",
              "    </tr>\n",
              "    <tr>\n",
              "      <th>17</th>\n",
              "      <td>20200321</td>\n",
              "      <td>361</td>\n",
              "      <td>9989</td>\n",
              "      <td>0</td>\n",
              "      <td>0</td>\n",
              "      <td>0</td>\n",
              "      <td>0</td>\n",
              "      <td>0</td>\n",
              "      <td>0</td>\n",
              "      <td>0</td>\n",
              "      <td>0</td>\n",
              "      <td>5</td>\n",
              "      <td>0</td>\n",
              "      <td>10350</td>\n",
              "      <td>10350</td>\n",
              "      <td>10350</td>\n",
              "      <td>83</td>\n",
              "      <td>0</td>\n",
              "      <td>0</td>\n",
              "      <td>1135</td>\n",
              "      <td>124</td>\n",
              "      <td>1259</td>\n",
              "    </tr>\n",
              "    <tr>\n",
              "      <th>18</th>\n",
              "      <td>20200322</td>\n",
              "      <td>391</td>\n",
              "      <td>13144</td>\n",
              "      <td>0</td>\n",
              "      <td>0</td>\n",
              "      <td>0</td>\n",
              "      <td>0</td>\n",
              "      <td>0</td>\n",
              "      <td>0</td>\n",
              "      <td>0</td>\n",
              "      <td>0</td>\n",
              "      <td>5</td>\n",
              "      <td>0</td>\n",
              "      <td>13535</td>\n",
              "      <td>13535</td>\n",
              "      <td>13535</td>\n",
              "      <td>83</td>\n",
              "      <td>0</td>\n",
              "      <td>0</td>\n",
              "      <td>3155</td>\n",
              "      <td>30</td>\n",
              "      <td>3185</td>\n",
              "    </tr>\n",
              "    <tr>\n",
              "      <th>19</th>\n",
              "      <td>20200323</td>\n",
              "      <td>417</td>\n",
              "      <td>15024</td>\n",
              "      <td>0</td>\n",
              "      <td>0</td>\n",
              "      <td>0</td>\n",
              "      <td>0</td>\n",
              "      <td>0</td>\n",
              "      <td>0</td>\n",
              "      <td>0</td>\n",
              "      <td>0</td>\n",
              "      <td>8</td>\n",
              "      <td>0</td>\n",
              "      <td>15441</td>\n",
              "      <td>15441</td>\n",
              "      <td>15441</td>\n",
              "      <td>83</td>\n",
              "      <td>3</td>\n",
              "      <td>0</td>\n",
              "      <td>1880</td>\n",
              "      <td>26</td>\n",
              "      <td>1906</td>\n",
              "    </tr>\n",
              "    <tr>\n",
              "      <th>20</th>\n",
              "      <td>20200324</td>\n",
              "      <td>493</td>\n",
              "      <td>16647</td>\n",
              "      <td>0</td>\n",
              "      <td>0</td>\n",
              "      <td>0</td>\n",
              "      <td>0</td>\n",
              "      <td>0</td>\n",
              "      <td>0</td>\n",
              "      <td>0</td>\n",
              "      <td>0</td>\n",
              "      <td>9</td>\n",
              "      <td>0</td>\n",
              "      <td>17140</td>\n",
              "      <td>17140</td>\n",
              "      <td>17140</td>\n",
              "      <td>83</td>\n",
              "      <td>1</td>\n",
              "      <td>0</td>\n",
              "      <td>1623</td>\n",
              "      <td>76</td>\n",
              "      <td>1699</td>\n",
              "    </tr>\n",
              "    <tr>\n",
              "      <th>21</th>\n",
              "      <td>20200325</td>\n",
              "      <td>1074</td>\n",
              "      <td>19262</td>\n",
              "      <td>0</td>\n",
              "      <td>0</td>\n",
              "      <td>0</td>\n",
              "      <td>0</td>\n",
              "      <td>0</td>\n",
              "      <td>0</td>\n",
              "      <td>0</td>\n",
              "      <td>0</td>\n",
              "      <td>13</td>\n",
              "      <td>0</td>\n",
              "      <td>20336</td>\n",
              "      <td>20336</td>\n",
              "      <td>20336</td>\n",
              "      <td>83</td>\n",
              "      <td>4</td>\n",
              "      <td>0</td>\n",
              "      <td>2615</td>\n",
              "      <td>581</td>\n",
              "      <td>3196</td>\n",
              "    </tr>\n",
              "    <tr>\n",
              "      <th>22</th>\n",
              "      <td>20200326</td>\n",
              "      <td>1508</td>\n",
              "      <td>27709</td>\n",
              "      <td>0</td>\n",
              "      <td>0</td>\n",
              "      <td>0</td>\n",
              "      <td>0</td>\n",
              "      <td>0</td>\n",
              "      <td>0</td>\n",
              "      <td>0</td>\n",
              "      <td>0</td>\n",
              "      <td>19</td>\n",
              "      <td>0</td>\n",
              "      <td>29217</td>\n",
              "      <td>29217</td>\n",
              "      <td>29217</td>\n",
              "      <td>83</td>\n",
              "      <td>6</td>\n",
              "      <td>0</td>\n",
              "      <td>8447</td>\n",
              "      <td>434</td>\n",
              "      <td>8881</td>\n",
              "    </tr>\n",
              "    <tr>\n",
              "      <th>23</th>\n",
              "      <td>20200327</td>\n",
              "      <td>1867</td>\n",
              "      <td>30312</td>\n",
              "      <td>0</td>\n",
              "      <td>0</td>\n",
              "      <td>0</td>\n",
              "      <td>0</td>\n",
              "      <td>0</td>\n",
              "      <td>0</td>\n",
              "      <td>0</td>\n",
              "      <td>0</td>\n",
              "      <td>24</td>\n",
              "      <td>0</td>\n",
              "      <td>32179</td>\n",
              "      <td>32179</td>\n",
              "      <td>32179</td>\n",
              "      <td>83</td>\n",
              "      <td>5</td>\n",
              "      <td>0</td>\n",
              "      <td>2603</td>\n",
              "      <td>359</td>\n",
              "      <td>2962</td>\n",
              "    </tr>\n",
              "    <tr>\n",
              "      <th>24</th>\n",
              "      <td>20200328</td>\n",
              "      <td>2243</td>\n",
              "      <td>32404</td>\n",
              "      <td>0</td>\n",
              "      <td>17</td>\n",
              "      <td>0</td>\n",
              "      <td>0</td>\n",
              "      <td>0</td>\n",
              "      <td>0</td>\n",
              "      <td>0</td>\n",
              "      <td>0</td>\n",
              "      <td>28</td>\n",
              "      <td>0</td>\n",
              "      <td>34647</td>\n",
              "      <td>34647</td>\n",
              "      <td>34647</td>\n",
              "      <td>83</td>\n",
              "      <td>4</td>\n",
              "      <td>0</td>\n",
              "      <td>2092</td>\n",
              "      <td>376</td>\n",
              "      <td>2468</td>\n",
              "    </tr>\n",
              "    <tr>\n",
              "      <th>25</th>\n",
              "      <td>20200329</td>\n",
              "      <td>2789</td>\n",
              "      <td>33977</td>\n",
              "      <td>0</td>\n",
              "      <td>19</td>\n",
              "      <td>0</td>\n",
              "      <td>0</td>\n",
              "      <td>0</td>\n",
              "      <td>0</td>\n",
              "      <td>0</td>\n",
              "      <td>2</td>\n",
              "      <td>36</td>\n",
              "      <td>0</td>\n",
              "      <td>36766</td>\n",
              "      <td>36766</td>\n",
              "      <td>36766</td>\n",
              "      <td>83</td>\n",
              "      <td>8</td>\n",
              "      <td>0</td>\n",
              "      <td>1573</td>\n",
              "      <td>546</td>\n",
              "      <td>2119</td>\n",
              "    </tr>\n",
              "    <tr>\n",
              "      <th>26</th>\n",
              "      <td>20200330</td>\n",
              "      <td>3114</td>\n",
              "      <td>43945</td>\n",
              "      <td>0</td>\n",
              "      <td>22</td>\n",
              "      <td>0</td>\n",
              "      <td>0</td>\n",
              "      <td>0</td>\n",
              "      <td>0</td>\n",
              "      <td>0</td>\n",
              "      <td>64</td>\n",
              "      <td>36</td>\n",
              "      <td>0</td>\n",
              "      <td>47059</td>\n",
              "      <td>47059</td>\n",
              "      <td>47059</td>\n",
              "      <td>83</td>\n",
              "      <td>0</td>\n",
              "      <td>0</td>\n",
              "      <td>9968</td>\n",
              "      <td>325</td>\n",
              "      <td>10293</td>\n",
              "    </tr>\n",
              "    <tr>\n",
              "      <th>27</th>\n",
              "      <td>20200331</td>\n",
              "      <td>3547</td>\n",
              "      <td>51972</td>\n",
              "      <td>0</td>\n",
              "      <td>218</td>\n",
              "      <td>0</td>\n",
              "      <td>0</td>\n",
              "      <td>0</td>\n",
              "      <td>0</td>\n",
              "      <td>0</td>\n",
              "      <td>64</td>\n",
              "      <td>45</td>\n",
              "      <td>0</td>\n",
              "      <td>55519</td>\n",
              "      <td>55519</td>\n",
              "      <td>55519</td>\n",
              "      <td>83</td>\n",
              "      <td>9</td>\n",
              "      <td>0</td>\n",
              "      <td>8027</td>\n",
              "      <td>433</td>\n",
              "      <td>8460</td>\n",
              "    </tr>\n",
              "    <tr>\n",
              "      <th>28</th>\n",
              "      <td>20200401</td>\n",
              "      <td>4312</td>\n",
              "      <td>56785</td>\n",
              "      <td>0</td>\n",
              "      <td>220</td>\n",
              "      <td>0</td>\n",
              "      <td>0</td>\n",
              "      <td>0</td>\n",
              "      <td>0</td>\n",
              "      <td>0</td>\n",
              "      <td>64</td>\n",
              "      <td>63</td>\n",
              "      <td>0</td>\n",
              "      <td>61097</td>\n",
              "      <td>61097</td>\n",
              "      <td>61097</td>\n",
              "      <td>83</td>\n",
              "      <td>18</td>\n",
              "      <td>0</td>\n",
              "      <td>4813</td>\n",
              "      <td>765</td>\n",
              "      <td>5578</td>\n",
              "    </tr>\n",
              "    <tr>\n",
              "      <th>29</th>\n",
              "      <td>20200402</td>\n",
              "      <td>5032</td>\n",
              "      <td>59658</td>\n",
              "      <td>0</td>\n",
              "      <td>227</td>\n",
              "      <td>0</td>\n",
              "      <td>0</td>\n",
              "      <td>0</td>\n",
              "      <td>0</td>\n",
              "      <td>0</td>\n",
              "      <td>64</td>\n",
              "      <td>76</td>\n",
              "      <td>0</td>\n",
              "      <td>64690</td>\n",
              "      <td>64690</td>\n",
              "      <td>64690</td>\n",
              "      <td>83</td>\n",
              "      <td>13</td>\n",
              "      <td>0</td>\n",
              "      <td>2873</td>\n",
              "      <td>720</td>\n",
              "      <td>3593</td>\n",
              "    </tr>\n",
              "    <tr>\n",
              "      <th>30</th>\n",
              "      <td>20200403</td>\n",
              "      <td>5733</td>\n",
              "      <td>64809</td>\n",
              "      <td>0</td>\n",
              "      <td>227</td>\n",
              "      <td>0</td>\n",
              "      <td>0</td>\n",
              "      <td>0</td>\n",
              "      <td>0</td>\n",
              "      <td>0</td>\n",
              "      <td>64</td>\n",
              "      <td>97</td>\n",
              "      <td>0</td>\n",
              "      <td>70542</td>\n",
              "      <td>70542</td>\n",
              "      <td>70542</td>\n",
              "      <td>83</td>\n",
              "      <td>21</td>\n",
              "      <td>0</td>\n",
              "      <td>5151</td>\n",
              "      <td>701</td>\n",
              "      <td>5852</td>\n",
              "    </tr>\n",
              "    <tr>\n",
              "      <th>31</th>\n",
              "      <td>20200404</td>\n",
              "      <td>6605</td>\n",
              "      <td>72778</td>\n",
              "      <td>0</td>\n",
              "      <td>237</td>\n",
              "      <td>0</td>\n",
              "      <td>0</td>\n",
              "      <td>0</td>\n",
              "      <td>18</td>\n",
              "      <td>0</td>\n",
              "      <td>64</td>\n",
              "      <td>115</td>\n",
              "      <td>0</td>\n",
              "      <td>79383</td>\n",
              "      <td>79383</td>\n",
              "      <td>79383</td>\n",
              "      <td>83</td>\n",
              "      <td>18</td>\n",
              "      <td>0</td>\n",
              "      <td>7969</td>\n",
              "      <td>872</td>\n",
              "      <td>8841</td>\n",
              "    </tr>\n",
              "    <tr>\n",
              "      <th>32</th>\n",
              "      <td>20200405</td>\n",
              "      <td>7355</td>\n",
              "      <td>80411</td>\n",
              "      <td>0</td>\n",
              "      <td>864</td>\n",
              "      <td>0</td>\n",
              "      <td>0</td>\n",
              "      <td>0</td>\n",
              "      <td>18</td>\n",
              "      <td>0</td>\n",
              "      <td>92</td>\n",
              "      <td>138</td>\n",
              "      <td>0</td>\n",
              "      <td>87766</td>\n",
              "      <td>87766</td>\n",
              "      <td>87766</td>\n",
              "      <td>83</td>\n",
              "      <td>23</td>\n",
              "      <td>0</td>\n",
              "      <td>7633</td>\n",
              "      <td>750</td>\n",
              "      <td>8383</td>\n",
              "    </tr>\n",
              "    <tr>\n",
              "      <th>33</th>\n",
              "      <td>20200406</td>\n",
              "      <td>7900</td>\n",
              "      <td>96593</td>\n",
              "      <td>0</td>\n",
              "      <td>1198</td>\n",
              "      <td>0</td>\n",
              "      <td>0</td>\n",
              "      <td>0</td>\n",
              "      <td>18</td>\n",
              "      <td>0</td>\n",
              "      <td>168</td>\n",
              "      <td>152</td>\n",
              "      <td>0</td>\n",
              "      <td>104493</td>\n",
              "      <td>104493</td>\n",
              "      <td>104493</td>\n",
              "      <td>83</td>\n",
              "      <td>14</td>\n",
              "      <td>0</td>\n",
              "      <td>16182</td>\n",
              "      <td>545</td>\n",
              "      <td>16727</td>\n",
              "    </tr>\n",
              "    <tr>\n",
              "      <th>34</th>\n",
              "      <td>20200407</td>\n",
              "      <td>8948</td>\n",
              "      <td>101526</td>\n",
              "      <td>0</td>\n",
              "      <td>1300</td>\n",
              "      <td>0</td>\n",
              "      <td>0</td>\n",
              "      <td>0</td>\n",
              "      <td>18</td>\n",
              "      <td>0</td>\n",
              "      <td>171</td>\n",
              "      <td>166</td>\n",
              "      <td>0</td>\n",
              "      <td>110474</td>\n",
              "      <td>110474</td>\n",
              "      <td>110474</td>\n",
              "      <td>83</td>\n",
              "      <td>14</td>\n",
              "      <td>0</td>\n",
              "      <td>4933</td>\n",
              "      <td>1048</td>\n",
              "      <td>5981</td>\n",
              "    </tr>\n",
              "    <tr>\n",
              "      <th>35</th>\n",
              "      <td>20200408</td>\n",
              "      <td>10147</td>\n",
              "      <td>108356</td>\n",
              "      <td>0</td>\n",
              "      <td>1542</td>\n",
              "      <td>0</td>\n",
              "      <td>0</td>\n",
              "      <td>0</td>\n",
              "      <td>18</td>\n",
              "      <td>0</td>\n",
              "      <td>209</td>\n",
              "      <td>190</td>\n",
              "      <td>0</td>\n",
              "      <td>118503</td>\n",
              "      <td>118503</td>\n",
              "      <td>118503</td>\n",
              "      <td>83</td>\n",
              "      <td>24</td>\n",
              "      <td>0</td>\n",
              "      <td>6830</td>\n",
              "      <td>1199</td>\n",
              "      <td>8029</td>\n",
              "    </tr>\n",
              "    <tr>\n",
              "      <th>36</th>\n",
              "      <td>20200409</td>\n",
              "      <td>11095</td>\n",
              "      <td>118846</td>\n",
              "      <td>0</td>\n",
              "      <td>1498</td>\n",
              "      <td>0</td>\n",
              "      <td>0</td>\n",
              "      <td>0</td>\n",
              "      <td>18</td>\n",
              "      <td>0</td>\n",
              "      <td>1302</td>\n",
              "      <td>215</td>\n",
              "      <td>0</td>\n",
              "      <td>129941</td>\n",
              "      <td>129941</td>\n",
              "      <td>129941</td>\n",
              "      <td>83</td>\n",
              "      <td>25</td>\n",
              "      <td>0</td>\n",
              "      <td>10490</td>\n",
              "      <td>948</td>\n",
              "      <td>11438</td>\n",
              "    </tr>\n",
              "    <tr>\n",
              "      <th>37</th>\n",
              "      <td>20200410</td>\n",
              "      <td>12762</td>\n",
              "      <td>130054</td>\n",
              "      <td>0</td>\n",
              "      <td>1605</td>\n",
              "      <td>0</td>\n",
              "      <td>0</td>\n",
              "      <td>0</td>\n",
              "      <td>18</td>\n",
              "      <td>0</td>\n",
              "      <td>1583</td>\n",
              "      <td>245</td>\n",
              "      <td>0</td>\n",
              "      <td>142816</td>\n",
              "      <td>142816</td>\n",
              "      <td>142816</td>\n",
              "      <td>83</td>\n",
              "      <td>30</td>\n",
              "      <td>0</td>\n",
              "      <td>11208</td>\n",
              "      <td>1667</td>\n",
              "      <td>12875</td>\n",
              "    </tr>\n",
              "    <tr>\n",
              "      <th>38</th>\n",
              "      <td>20200411</td>\n",
              "      <td>13652</td>\n",
              "      <td>133979</td>\n",
              "      <td>0</td>\n",
              "      <td>1589</td>\n",
              "      <td>0</td>\n",
              "      <td>0</td>\n",
              "      <td>0</td>\n",
              "      <td>18</td>\n",
              "      <td>0</td>\n",
              "      <td>1852</td>\n",
              "      <td>273</td>\n",
              "      <td>0</td>\n",
              "      <td>147631</td>\n",
              "      <td>147631</td>\n",
              "      <td>147631</td>\n",
              "      <td>83</td>\n",
              "      <td>28</td>\n",
              "      <td>0</td>\n",
              "      <td>3925</td>\n",
              "      <td>890</td>\n",
              "      <td>4815</td>\n",
              "    </tr>\n",
              "    <tr>\n",
              "      <th>39</th>\n",
              "      <td>20200412</td>\n",
              "      <td>14658</td>\n",
              "      <td>138567</td>\n",
              "      <td>0</td>\n",
              "      <td>1416</td>\n",
              "      <td>0</td>\n",
              "      <td>0</td>\n",
              "      <td>0</td>\n",
              "      <td>18</td>\n",
              "      <td>0</td>\n",
              "      <td>2249</td>\n",
              "      <td>291</td>\n",
              "      <td>0</td>\n",
              "      <td>153225</td>\n",
              "      <td>153225</td>\n",
              "      <td>153225</td>\n",
              "      <td>83</td>\n",
              "      <td>18</td>\n",
              "      <td>0</td>\n",
              "      <td>4588</td>\n",
              "      <td>1006</td>\n",
              "      <td>5594</td>\n",
              "    </tr>\n",
              "    <tr>\n",
              "      <th>40</th>\n",
              "      <td>20200413</td>\n",
              "      <td>15151</td>\n",
              "      <td>148590</td>\n",
              "      <td>0</td>\n",
              "      <td>1256</td>\n",
              "      <td>0</td>\n",
              "      <td>0</td>\n",
              "      <td>0</td>\n",
              "      <td>0</td>\n",
              "      <td>0</td>\n",
              "      <td>2564</td>\n",
              "      <td>313</td>\n",
              "      <td>0</td>\n",
              "      <td>163741</td>\n",
              "      <td>163741</td>\n",
              "      <td>163741</td>\n",
              "      <td>83</td>\n",
              "      <td>22</td>\n",
              "      <td>0</td>\n",
              "      <td>10023</td>\n",
              "      <td>493</td>\n",
              "      <td>10516</td>\n",
              "    </tr>\n",
              "    <tr>\n",
              "      <th>41</th>\n",
              "      <td>20200414</td>\n",
              "      <td>15969</td>\n",
              "      <td>162468</td>\n",
              "      <td>0</td>\n",
              "      <td>1496</td>\n",
              "      <td>181</td>\n",
              "      <td>0</td>\n",
              "      <td>0</td>\n",
              "      <td>0</td>\n",
              "      <td>0</td>\n",
              "      <td>2884</td>\n",
              "      <td>349</td>\n",
              "      <td>181</td>\n",
              "      <td>178437</td>\n",
              "      <td>178437</td>\n",
              "      <td>178437</td>\n",
              "      <td>83</td>\n",
              "      <td>36</td>\n",
              "      <td>181</td>\n",
              "      <td>13878</td>\n",
              "      <td>818</td>\n",
              "      <td>14696</td>\n",
              "    </tr>\n",
              "    <tr>\n",
              "      <th>42</th>\n",
              "      <td>20200415</td>\n",
              "      <td>16899</td>\n",
              "      <td>167761</td>\n",
              "      <td>0</td>\n",
              "      <td>1625</td>\n",
              "      <td>181</td>\n",
              "      <td>0</td>\n",
              "      <td>0</td>\n",
              "      <td>0</td>\n",
              "      <td>0</td>\n",
              "      <td>3490</td>\n",
              "      <td>400</td>\n",
              "      <td>181</td>\n",
              "      <td>184660</td>\n",
              "      <td>184660</td>\n",
              "      <td>184660</td>\n",
              "      <td>83</td>\n",
              "      <td>51</td>\n",
              "      <td>0</td>\n",
              "      <td>5293</td>\n",
              "      <td>930</td>\n",
              "      <td>6223</td>\n",
              "    </tr>\n",
              "    <tr>\n",
              "      <th>43</th>\n",
              "      <td>20200416</td>\n",
              "      <td>17939</td>\n",
              "      <td>174002</td>\n",
              "      <td>0</td>\n",
              "      <td>1549</td>\n",
              "      <td>215</td>\n",
              "      <td>0</td>\n",
              "      <td>0</td>\n",
              "      <td>0</td>\n",
              "      <td>0</td>\n",
              "      <td>4030</td>\n",
              "      <td>429</td>\n",
              "      <td>215</td>\n",
              "      <td>191941</td>\n",
              "      <td>191941</td>\n",
              "      <td>191941</td>\n",
              "      <td>83</td>\n",
              "      <td>29</td>\n",
              "      <td>34</td>\n",
              "      <td>6241</td>\n",
              "      <td>1040</td>\n",
              "      <td>7281</td>\n",
              "    </tr>\n",
              "    <tr>\n",
              "      <th>44</th>\n",
              "      <td>20200417</td>\n",
              "      <td>18968</td>\n",
              "      <td>185056</td>\n",
              "      <td>0</td>\n",
              "      <td>1612</td>\n",
              "      <td>230</td>\n",
              "      <td>0</td>\n",
              "      <td>0</td>\n",
              "      <td>0</td>\n",
              "      <td>0</td>\n",
              "      <td>4543</td>\n",
              "      <td>472</td>\n",
              "      <td>230</td>\n",
              "      <td>204024</td>\n",
              "      <td>204024</td>\n",
              "      <td>204024</td>\n",
              "      <td>83</td>\n",
              "      <td>43</td>\n",
              "      <td>15</td>\n",
              "      <td>11054</td>\n",
              "      <td>1029</td>\n",
              "      <td>12083</td>\n",
              "    </tr>\n",
              "    <tr>\n",
              "      <th>45</th>\n",
              "      <td>20200418</td>\n",
              "      <td>19971</td>\n",
              "      <td>191881</td>\n",
              "      <td>0</td>\n",
              "      <td>1417</td>\n",
              "      <td>242</td>\n",
              "      <td>0</td>\n",
              "      <td>0</td>\n",
              "      <td>0</td>\n",
              "      <td>0</td>\n",
              "      <td>5188</td>\n",
              "      <td>504</td>\n",
              "      <td>242</td>\n",
              "      <td>211852</td>\n",
              "      <td>211852</td>\n",
              "      <td>211852</td>\n",
              "      <td>83</td>\n",
              "      <td>32</td>\n",
              "      <td>12</td>\n",
              "      <td>6825</td>\n",
              "      <td>1003</td>\n",
              "      <td>7828</td>\n",
              "    </tr>\n",
              "    <tr>\n",
              "      <th>46</th>\n",
              "      <td>20200419</td>\n",
              "      <td>20721</td>\n",
              "      <td>198621</td>\n",
              "      <td>0</td>\n",
              "      <td>1563</td>\n",
              "      <td>258</td>\n",
              "      <td>0</td>\n",
              "      <td>0</td>\n",
              "      <td>0</td>\n",
              "      <td>0</td>\n",
              "      <td>5799</td>\n",
              "      <td>530</td>\n",
              "      <td>258</td>\n",
              "      <td>219342</td>\n",
              "      <td>219342</td>\n",
              "      <td>219342</td>\n",
              "      <td>83</td>\n",
              "      <td>26</td>\n",
              "      <td>16</td>\n",
              "      <td>6740</td>\n",
              "      <td>750</td>\n",
              "      <td>7490</td>\n",
              "    </tr>\n",
              "    <tr>\n",
              "      <th>47</th>\n",
              "      <td>20200420</td>\n",
              "      <td>21303</td>\n",
              "      <td>206133</td>\n",
              "      <td>0</td>\n",
              "      <td>1514</td>\n",
              "      <td>274</td>\n",
              "      <td>0</td>\n",
              "      <td>0</td>\n",
              "      <td>0</td>\n",
              "      <td>0</td>\n",
              "      <td>6193</td>\n",
              "      <td>550</td>\n",
              "      <td>274</td>\n",
              "      <td>227436</td>\n",
              "      <td>227436</td>\n",
              "      <td>227436</td>\n",
              "      <td>83</td>\n",
              "      <td>20</td>\n",
              "      <td>16</td>\n",
              "      <td>7512</td>\n",
              "      <td>582</td>\n",
              "      <td>8094</td>\n",
              "    </tr>\n",
              "    <tr>\n",
              "      <th>48</th>\n",
              "      <td>20200421</td>\n",
              "      <td>22167</td>\n",
              "      <td>221987</td>\n",
              "      <td>0</td>\n",
              "      <td>1535</td>\n",
              "      <td>291</td>\n",
              "      <td>0</td>\n",
              "      <td>0</td>\n",
              "      <td>0</td>\n",
              "      <td>0</td>\n",
              "      <td>6987</td>\n",
              "      <td>575</td>\n",
              "      <td>291</td>\n",
              "      <td>244154</td>\n",
              "      <td>244154</td>\n",
              "      <td>244154</td>\n",
              "      <td>83</td>\n",
              "      <td>25</td>\n",
              "      <td>17</td>\n",
              "      <td>15854</td>\n",
              "      <td>864</td>\n",
              "      <td>16718</td>\n",
              "    </tr>\n",
              "    <tr>\n",
              "      <th>49</th>\n",
              "      <td>20200422</td>\n",
              "      <td>23141</td>\n",
              "      <td>234519</td>\n",
              "      <td>0</td>\n",
              "      <td>1797</td>\n",
              "      <td>306</td>\n",
              "      <td>0</td>\n",
              "      <td>0</td>\n",
              "      <td>0</td>\n",
              "      <td>0</td>\n",
              "      <td>7870</td>\n",
              "      <td>608</td>\n",
              "      <td>306</td>\n",
              "      <td>257660</td>\n",
              "      <td>257660</td>\n",
              "      <td>257660</td>\n",
              "      <td>83</td>\n",
              "      <td>33</td>\n",
              "      <td>15</td>\n",
              "      <td>12532</td>\n",
              "      <td>974</td>\n",
              "      <td>13506</td>\n",
              "    </tr>\n",
              "    <tr>\n",
              "      <th>50</th>\n",
              "      <td>20200423</td>\n",
              "      <td>24154</td>\n",
              "      <td>242156</td>\n",
              "      <td>0</td>\n",
              "      <td>1770</td>\n",
              "      <td>331</td>\n",
              "      <td>0</td>\n",
              "      <td>0</td>\n",
              "      <td>0</td>\n",
              "      <td>0</td>\n",
              "      <td>8572</td>\n",
              "      <td>632</td>\n",
              "      <td>331</td>\n",
              "      <td>266310</td>\n",
              "      <td>266310</td>\n",
              "      <td>266310</td>\n",
              "      <td>83</td>\n",
              "      <td>24</td>\n",
              "      <td>25</td>\n",
              "      <td>7637</td>\n",
              "      <td>1013</td>\n",
              "      <td>8650</td>\n",
              "    </tr>\n",
              "    <tr>\n",
              "      <th>51</th>\n",
              "      <td>20200424</td>\n",
              "      <td>25185</td>\n",
              "      <td>263925</td>\n",
              "      <td>0</td>\n",
              "      <td>1797</td>\n",
              "      <td>367</td>\n",
              "      <td>0</td>\n",
              "      <td>0</td>\n",
              "      <td>0</td>\n",
              "      <td>0</td>\n",
              "      <td>9729</td>\n",
              "      <td>671</td>\n",
              "      <td>367</td>\n",
              "      <td>289110</td>\n",
              "      <td>289110</td>\n",
              "      <td>289110</td>\n",
              "      <td>83</td>\n",
              "      <td>39</td>\n",
              "      <td>36</td>\n",
              "      <td>21769</td>\n",
              "      <td>1031</td>\n",
              "      <td>22800</td>\n",
              "    </tr>\n",
              "    <tr>\n",
              "      <th>52</th>\n",
              "      <td>20200425</td>\n",
              "      <td>26294</td>\n",
              "      <td>288032</td>\n",
              "      <td>0</td>\n",
              "      <td>1749</td>\n",
              "      <td>412</td>\n",
              "      <td>0</td>\n",
              "      <td>0</td>\n",
              "      <td>0</td>\n",
              "      <td>0</td>\n",
              "      <td>10600</td>\n",
              "      <td>707</td>\n",
              "      <td>412</td>\n",
              "      <td>314326</td>\n",
              "      <td>314326</td>\n",
              "      <td>314326</td>\n",
              "      <td>83</td>\n",
              "      <td>36</td>\n",
              "      <td>45</td>\n",
              "      <td>24107</td>\n",
              "      <td>1109</td>\n",
              "      <td>25216</td>\n",
              "    </tr>\n",
              "    <tr>\n",
              "      <th>53</th>\n",
              "      <td>20200426</td>\n",
              "      <td>27291</td>\n",
              "      <td>302465</td>\n",
              "      <td>0</td>\n",
              "      <td>1694</td>\n",
              "      <td>412</td>\n",
              "      <td>0</td>\n",
              "      <td>0</td>\n",
              "      <td>0</td>\n",
              "      <td>0</td>\n",
              "      <td>11377</td>\n",
              "      <td>741</td>\n",
              "      <td>412</td>\n",
              "      <td>329756</td>\n",
              "      <td>329756</td>\n",
              "      <td>329756</td>\n",
              "      <td>83</td>\n",
              "      <td>34</td>\n",
              "      <td>0</td>\n",
              "      <td>14433</td>\n",
              "      <td>997</td>\n",
              "      <td>15430</td>\n",
              "    </tr>\n",
              "    <tr>\n",
              "      <th>54</th>\n",
              "      <td>20200427</td>\n",
              "      <td>28023</td>\n",
              "      <td>319109</td>\n",
              "      <td>0</td>\n",
              "      <td>1711</td>\n",
              "      <td>412</td>\n",
              "      <td>0</td>\n",
              "      <td>0</td>\n",
              "      <td>0</td>\n",
              "      <td>0</td>\n",
              "      <td>11820</td>\n",
              "      <td>762</td>\n",
              "      <td>412</td>\n",
              "      <td>347132</td>\n",
              "      <td>347132</td>\n",
              "      <td>347132</td>\n",
              "      <td>83</td>\n",
              "      <td>21</td>\n",
              "      <td>0</td>\n",
              "      <td>16644</td>\n",
              "      <td>732</td>\n",
              "      <td>17376</td>\n",
              "    </tr>\n",
              "    <tr>\n",
              "      <th>55</th>\n",
              "      <td>20200428</td>\n",
              "      <td>28994</td>\n",
              "      <td>330193</td>\n",
              "      <td>0</td>\n",
              "      <td>1837</td>\n",
              "      <td>481</td>\n",
              "      <td>0</td>\n",
              "      <td>0</td>\n",
              "      <td>0</td>\n",
              "      <td>0</td>\n",
              "      <td>12452</td>\n",
              "      <td>794</td>\n",
              "      <td>481</td>\n",
              "      <td>359187</td>\n",
              "      <td>359187</td>\n",
              "      <td>359187</td>\n",
              "      <td>83</td>\n",
              "      <td>32</td>\n",
              "      <td>69</td>\n",
              "      <td>11084</td>\n",
              "      <td>971</td>\n",
              "      <td>12055</td>\n",
              "    </tr>\n",
              "    <tr>\n",
              "      <th>56</th>\n",
              "      <td>20200429</td>\n",
              "      <td>30028</td>\n",
              "      <td>346507</td>\n",
              "      <td>0</td>\n",
              "      <td>1859</td>\n",
              "      <td>509</td>\n",
              "      <td>0</td>\n",
              "      <td>0</td>\n",
              "      <td>0</td>\n",
              "      <td>0</td>\n",
              "      <td>13212</td>\n",
              "      <td>842</td>\n",
              "      <td>509</td>\n",
              "      <td>376535</td>\n",
              "      <td>376535</td>\n",
              "      <td>376535</td>\n",
              "      <td>83</td>\n",
              "      <td>48</td>\n",
              "      <td>28</td>\n",
              "      <td>16314</td>\n",
              "      <td>1034</td>\n",
              "      <td>17348</td>\n",
              "    </tr>\n",
              "  </tbody>\n",
              "</table>\n",
              "</div>"
            ],
            "text/plain": [
              "        date  positive  ...  positiveIncrease  totalTestResultsIncrease\n",
              "0   20200304         1  ...                 0                         0\n",
              "1   20200305         1  ...                 0                         0\n",
              "2   20200306         5  ...                 4                         4\n",
              "3   20200307         8  ...                 3                        35\n",
              "4   20200308         8  ...                 0                         0\n",
              "5   20200309        12  ...                 4                        13\n",
              "6   20200310        13  ...                 1                        13\n",
              "7   20200311        24  ...                11                        29\n",
              "8   20200312        28  ...                 4                        72\n",
              "9   20200313        49  ...                21                        56\n",
              "10  20200314        61  ...                12                        59\n",
              "11  20200315        69  ...                 8                       253\n",
              "12  20200316        74  ...                 5                        89\n",
              "13  20200317        87  ...                13                      1900\n",
              "14  20200318       111  ...                24                      1721\n",
              "15  20200319       178  ...                67                       891\n",
              "16  20200320       237  ...                59                      3939\n",
              "17  20200321       361  ...               124                      1259\n",
              "18  20200322       391  ...                30                      3185\n",
              "19  20200323       417  ...                26                      1906\n",
              "20  20200324       493  ...                76                      1699\n",
              "21  20200325      1074  ...               581                      3196\n",
              "22  20200326      1508  ...               434                      8881\n",
              "23  20200327      1867  ...               359                      2962\n",
              "24  20200328      2243  ...               376                      2468\n",
              "25  20200329      2789  ...               546                      2119\n",
              "26  20200330      3114  ...               325                     10293\n",
              "27  20200331      3547  ...               433                      8460\n",
              "28  20200401      4312  ...               765                      5578\n",
              "29  20200402      5032  ...               720                      3593\n",
              "30  20200403      5733  ...               701                      5852\n",
              "31  20200404      6605  ...               872                      8841\n",
              "32  20200405      7355  ...               750                      8383\n",
              "33  20200406      7900  ...               545                     16727\n",
              "34  20200407      8948  ...              1048                      5981\n",
              "35  20200408     10147  ...              1199                      8029\n",
              "36  20200409     11095  ...               948                     11438\n",
              "37  20200410     12762  ...              1667                     12875\n",
              "38  20200411     13652  ...               890                      4815\n",
              "39  20200412     14658  ...              1006                      5594\n",
              "40  20200413     15151  ...               493                     10516\n",
              "41  20200414     15969  ...               818                     14696\n",
              "42  20200415     16899  ...               930                      6223\n",
              "43  20200416     17939  ...              1040                      7281\n",
              "44  20200417     18968  ...              1029                     12083\n",
              "45  20200418     19971  ...              1003                      7828\n",
              "46  20200419     20721  ...               750                      7490\n",
              "47  20200420     21303  ...               582                      8094\n",
              "48  20200421     22167  ...               864                     16718\n",
              "49  20200422     23141  ...               974                     13506\n",
              "50  20200423     24154  ...              1013                      8650\n",
              "51  20200424     25185  ...              1031                     22800\n",
              "52  20200425     26294  ...              1109                     25216\n",
              "53  20200426     27291  ...               997                     15430\n",
              "54  20200427     28023  ...               732                     17376\n",
              "55  20200428     28994  ...               971                     12055\n",
              "56  20200429     30028  ...              1034                     17348\n",
              "\n",
              "[57 rows x 22 columns]"
            ]
          },
          "metadata": {
            "tags": []
          },
          "execution_count": 118
        }
      ]
    },
    {
      "cell_type": "code",
      "metadata": {
        "id": "KSCCO7kELfCx",
        "colab_type": "code",
        "colab": {}
      },
      "source": [
        "#Merging the two datasets and filtering a little to match dimensions and number of rows\n",
        "covid=covid[['negative','positive','hospitalizedCurrently','recovered','death','total','negativeIncrease','positiveIncrease','deathIncrease','totalTestResultsIncrease']]\n",
        "X=pd.read_csv('TRIP.csv')\n",
        "X=X[['Open','High','Low','Close','Adj Close','Volume']]\n",
        "merged=pd.concat([X, covid], axis=1)\n",
        "merged=merged.head(42)"
      ],
      "execution_count": 0,
      "outputs": []
    },
    {
      "cell_type": "markdown",
      "metadata": {
        "id": "jjbx5QNULjCk",
        "colab_type": "text"
      },
      "source": [
        "After this we first performed Multiple Linear Regression by considering various columns of the X dataset as the vector of independent variables and a single column of covid dataset as the dependent variable. After experimenting with various columns the best RMSE error achieved was 88.51390270429455 on the number of deaths column. <br>\n",
        "It is agreed that the error value is not so great but given the limited amount of training data, we believe it seems good enough and there is a clear relationship between the change in the stock values of TripAdvisor (which can be equated to number of flights and transactions which give us a measure of travel) with the number of deaths. <br>\n",
        "This seems like as the number of people who travel increases, more people get infected and hence the number of deaths indirectly increases. \n"
      ]
    },
    {
      "cell_type": "markdown",
      "metadata": {
        "id": "rf1BYfoLL1zC",
        "colab_type": "text"
      },
      "source": [
        "<b> Error functions:<b>"
      ]
    },
    {
      "cell_type": "code",
      "metadata": {
        "id": "3Xj1OaltL2if",
        "colab_type": "code",
        "colab": {}
      },
      "source": [
        "#Formula=(sum(abs(Yi-Y_hat))/Yi)*100/n\n",
        "def mape(y_hat,test):\n",
        "  error=0\n",
        "  for i in range(len(test)):\n",
        "    error=error+((abs(test[i]-y_hat[i])/test[i])*100)\n",
        "  return error/len(test)\n",
        "\n",
        "#Formula=sum((Yi-Y_hat)^2)/n\n",
        "def mse(y_hat,test):\n",
        "  error=0\n",
        "  for i in range(len(test)):\n",
        "    error=error+((test[i]-y_hat[i])*(test[i]-y_hat[i]))\n",
        "  return error/len(test)\n",
        "\n",
        "#Formula=sqrt(sum((Yi-Y_hat)^2)/n)\n",
        "import math\n",
        "def rmse(y_hat,test):\n",
        "  error=0\n",
        "  for i in range(len(test)):\n",
        "    error=error+((test[i]-y_hat[i])*(test[i]-y_hat[i]))\n",
        "  return math.sqrt(error/len(test))\n",
        "\n",
        "def plot(X1,Y1,Y1_hat):\n",
        "  plt.plot(X1, Y1, 'r', label='Original data') \n",
        "  plt.plot(X1, Y1_hat, 'g', label='Fitted line') \n",
        "  plt.legend() \n",
        "  plt.show()"
      ],
      "execution_count": 0,
      "outputs": []
    },
    {
      "cell_type": "markdown",
      "metadata": {
        "id": "YQ6M_uufL8SU",
        "colab_type": "text"
      },
      "source": [
        "<b>Multiple Linear Regression</b>"
      ]
    },
    {
      "cell_type": "code",
      "metadata": {
        "id": "NSIGztJCLg9_",
        "colab_type": "code",
        "colab": {}
      },
      "source": [
        "#Selecting a vector of Independent variables\n",
        "X.values.tolist()\n",
        "#Selecting the dependent variable\n",
        "test=merged[['death']].values.tolist()\n",
        "#Idea: Understand the relationship between the various features related to stock values(flight transactions) and the number of deaths\n",
        "\n",
        "#Implementing the formula: b_hat=(x.T*x)^-1*x.T*y\n",
        "emp=np.ones((len(test),1))\n",
        "x=np.matrix(X)\n",
        "x=np.concatenate((emp,x),axis=1)     \n",
        "t=x.T\n",
        "prod=np.matmul(t,x)\n",
        "inv=np.linalg.pinv(prod)\n",
        "res_x=np.matmul(inv,t)\n",
        "y=np.matrix(test)\n",
        "\n",
        "b_hat=np.matmul(res_x,y)\n",
        "\n",
        "#Implementing the formula:y_hat=x*b_hat\n",
        "y_hat=np.matmul(x,b_hat)"
      ],
      "execution_count": 0,
      "outputs": []
    },
    {
      "cell_type": "code",
      "metadata": {
        "id": "7jh_VUK3LnE9",
        "colab_type": "code",
        "outputId": "7454bb26-fae1-448d-e814-bd444c962f00",
        "colab": {
          "base_uri": "https://localhost:8080/",
          "height": 102
        }
      },
      "source": [
        "#Calculating error scores between the true value and the predicted value\n",
        "print(\"MAPE=\",mape(y_hat,test))\n",
        "print(\"MSE=\",mse(y_hat,test))\n",
        "print(\"RMSE=\",rmse(y_hat,test))"
      ],
      "execution_count": 0,
      "outputs": [
        {
          "output_type": "stream",
          "text": [
            "MAPE= [[inf]]\n",
            "MSE= [[7834.71097195]]\n",
            "RMSE= 88.51390270429457\n"
          ],
          "name": "stdout"
        },
        {
          "output_type": "stream",
          "text": [
            "/usr/local/lib/python3.6/dist-packages/ipykernel_launcher.py:5: RuntimeWarning: divide by zero encountered in true_divide\n",
            "  \"\"\"\n"
          ],
          "name": "stderr"
        }
      ]
    },
    {
      "cell_type": "markdown",
      "metadata": {
        "id": "WST-2ndvLqZO",
        "colab_type": "text"
      },
      "source": [
        "In an attempt to decrease the error a little more, we tried our hand at Simple Linear Regression with Volume as the Independent feature and death as the dependent feature after lots of experimenting.<br>\n",
        "This combination gives an RMSE of 9.3757042719415 which seems really good and supports our above inference and idea.<br>\n",
        "\n",
        "<b>Note:</b> MAPE comes out to be inf as there are lots of 0's in the data avaialble to us(true values) and division by zero leads to inf value."
      ]
    },
    {
      "cell_type": "markdown",
      "metadata": {
        "id": "rX1DAva7MAsC",
        "colab_type": "text"
      },
      "source": [
        "<b>Simple Linear Regression</b>"
      ]
    },
    {
      "cell_type": "code",
      "metadata": {
        "id": "DWLnAVfRLrhu",
        "colab_type": "code",
        "colab": {}
      },
      "source": [
        "#Similar to Assignment 6\n",
        "#Formulae\n",
        "#b1_hat = (sum(X_i*Y_i) - n*Xbar*Ybar)/(sum(Xi*Xi) - n*Xbar*Xbar)\n",
        "#b0_hat = Ybar - b1_hat*Xbar\n",
        "#Y_i_hat = b0_hat + b1_hat*X_i\n",
        "#Calculating the value of b1_hat\n",
        "def calculate_b1hat(X,Y):\n",
        "    b1_hat = (np.sum(X*Y) - (np.mean(X)*np.mean(Y)*len(X)))/(np.sum(X*X) - (len(X)*np.mean(X)*np.mean(X)))\n",
        "    return b1_hat\n",
        "#Calculating the value of b0_hat\n",
        "def calculate_b0hat(X,Y,b1_hat):\n",
        "    b0_hat = np.mean(Y) - (b1_hat*np.mean(X))\n",
        "    return b0_hat\n",
        "#Calculating the value of Y_hat \n",
        "def calculate_Yhat(b0_hat, b1_hat, X):\n",
        "  Y_hat = b0_hat + (b1_hat*X)\n",
        "  return Y_hat"
      ],
      "execution_count": 0,
      "outputs": []
    },
    {
      "cell_type": "code",
      "metadata": {
        "id": "oDOCVbmeLtXm",
        "colab_type": "code",
        "colab": {}
      },
      "source": [
        "#Choosing features for performing simple linear regression\n",
        "#Independent feature is Volume from X dataset and dependent feature is deathIncrease from Covid dataset\n",
        "#Intention is to analyze the relationship between the number of flights booked on TripAdvisor(value of Volume) and the increase in number of deaths\n",
        "X1=X['Volume'].values\n",
        "Y1=merged['deathIncrease'].values\n",
        "#Calling the above functions\n",
        "b11_hat = calculate_b1hat(X1, Y1)\n",
        "b01_hat = calculate_b0hat(X1, Y1, b11_hat)\n",
        "Y1_hat = calculate_Yhat(b01_hat, b11_hat, X1)\n"
      ],
      "execution_count": 0,
      "outputs": []
    },
    {
      "cell_type": "code",
      "metadata": {
        "id": "x-WnynntLvCF",
        "colab_type": "code",
        "outputId": "68605d76-7a6d-4666-e940-b173696090e9",
        "colab": {
          "base_uri": "https://localhost:8080/",
          "height": 332
        }
      },
      "source": [
        "#Calculating error scores between the true value and the predicted value\n",
        "print(\"MAPE=\",mape(Y1,Y1_hat))\n",
        "print(\"MSE=\",mse(Y1,Y1_hat))\n",
        "print(\"RMSE=\",rmse(Y1,Y1_hat))\n",
        "plot(X1,Y1,Y1_hat)"
      ],
      "execution_count": 0,
      "outputs": [
        {
          "output_type": "stream",
          "text": [
            "MAPE= 68.05521515698895\n",
            "MSE= 87.90383059490209\n",
            "RMSE= 9.3757042719415\n"
          ],
          "name": "stdout"
        },
        {
          "output_type": "display_data",
          "data": {
            "image/png": "[encoded data removed]",
            "text/plain": [
              "<Figure size 432x288 with 1 Axes>"
            ]
          },
          "metadata": {
            "tags": []
          }
        }
      ]
    },
    {
      "cell_type": "markdown",
      "metadata": {
        "id": "9-ZskkAbMG0E",
        "colab_type": "text"
      },
      "source": [
        "Since we computed the correlations before performing regression and there were some evident correlations, We think that regression works for this task and provides us with some interesting insights."
      ]
    }
  ]
}